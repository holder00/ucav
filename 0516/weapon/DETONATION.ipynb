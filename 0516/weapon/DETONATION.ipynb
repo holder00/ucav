{
 "cells": [
  {
   "cell_type": "markdown",
   "id": "dc456d47",
   "metadata": {},
   "source": [
    "# 起爆（信管）モデル"
   ]
  },
  {
   "cell_type": "code",
   "execution_count": 5,
   "id": "49d934ba",
   "metadata": {},
   "outputs": [],
   "source": [
    "import sys\n",
    "sys.path.append('../')\n",
    "sys.path.append('../utility')\n",
    "sys.path.append('../sensor')"
   ]
  },
  {
   "cell_type": "code",
   "execution_count": 6,
   "id": "ce74c5b3",
   "metadata": {},
   "outputs": [],
   "source": [
    "import numpy as np\n",
    "import quaternion\n",
    "#座標系クラスのインポート\n",
    "from COORDINATION_SYSTEMS import ECEF, LLA, NED, FRD, AC_ATTITUDE, LOCAL, SENSOR_ATTITUDE, FOCAL_POSITION, FOCAL_ANGLE\n",
    "#WGS84座標変換クラスのインポート\n",
    "from WGS84_COORDINATE_CONVERT import WGS84_COORDINATION_CONVERT\n",
    "#座標変換クラスのインポート\n",
    "from ATTITUDE_CONVERT import ATTITUDE_CONVERT\n",
    "#センサ取得情報クラスのインポート\n",
    "from SENSOR_FOCAL import SENSOR_FOCAL\n",
    "#センサ性能クラスのインポート\n",
    "from SENSOR_PERFORMANCE import FOV"
   ]
  },
  {
   "cell_type": "markdown",
   "id": "707ce63c",
   "metadata": {},
   "source": [
    "## クラス定義"
   ]
  },
  {
   "cell_type": "code",
   "execution_count": 7,
   "id": "90c74d18",
   "metadata": {},
   "outputs": [],
   "source": [
    "class DETONATION():\n",
    "    def __init__ (self):\n",
    "        self.detonated =0\n",
    "        \n",
    "    def get_detonated(self, own_lla =LLA(), own_att =AC_ATTITUDE(), sens_att = SENSOR_ATTITUDE(), opp_lla=LLA(), fov = FOV(),fuse_range=0):\n",
    "        #用途：センサの認知判定を行う。\n",
    "        #入力：自機位置 緯度経度高度　単位：°　（オイラーシーケンス：経度→緯度）\n",
    "        #入力：自機姿勢 ロール、ピッチ、ヨー 単位：°（オイラーシーケンス：ヨー→ピッチ→ロール）\n",
    "        #入力：センサ視軸 スピン、EL、AZ 単位：° （オイラーシーケンス：投影AZ→投影EL）\n",
    "        #入力：相手機位置 緯度経度高度 単位：°（オイラーシーケンス：経度→緯度）\n",
    "        #入力：センサ覆域（画像なら視野角） 覆域AZ、覆域EL 単位：°（オイラーシーケンス：覆域AZ→覆域EL）\n",
    "        #入力：信管作動レンジ(fuse_range)：単位m\n",
    "        #出力：作動状況 単位：0=非作動 1=作動\n",
    "        \n",
    "        #self.own_lla = own_lla\n",
    "        #self.own_att = own_att\n",
    "        #self.sens_att = sens_att\n",
    "        #self.opp_lla = opp_lla\n",
    "        \n",
    "        \n",
    "        #距離判定\n",
    "        distance = SENSOR_FOCAL().get_focal_distance(own_lla, opp_lla)\n",
    "        \n",
    "        \n",
    "        #視野判定\n",
    "        focal = SENSOR_FOCAL().get_focal_angle(own_lla, own_att, sens_att, opp_lla)\n",
    "        \n",
    "        #recog_level = self.RECOGNITION_LEVEL(detected = 3, oriented = 3, recognized = 3, identified = 3)\n",
    "\n",
    "        self.detonated = 0\n",
    "        \n",
    "        if(distance < fuse_range):\n",
    "            if(focal.focal_az < fov.az):\n",
    "                if(focal.focal_el < fov.el):      \n",
    "                    self.detonated = 1\n",
    "        \n",
    "        return  self.detonated"
   ]
  },
  {
   "cell_type": "markdown",
   "id": "42801ec6",
   "metadata": {},
   "source": [
    "## 使い方"
   ]
  },
  {
   "cell_type": "code",
   "execution_count": 4,
   "id": "0684545d",
   "metadata": {},
   "outputs": [
    {
     "ename": "TypeError",
     "evalue": "__init__() got an unexpected keyword argument 'az'",
     "output_type": "error",
     "traceback": [
      "\u001b[1;31m---------------------------------------------------------------------------\u001b[0m",
      "\u001b[1;31mTypeError\u001b[0m                                 Traceback (most recent call last)",
      "\u001b[1;32mC:\\Users\\ZZMASU~1\\AppData\\Local\\Temp/ipykernel_11208/2269273166.py\u001b[0m in \u001b[0;36m<module>\u001b[1;34m\u001b[0m\n\u001b[0;32m      3\u001b[0m \u001b[0msens_att\u001b[0m \u001b[1;33m=\u001b[0m\u001b[0mSENSOR_ATTITUDE\u001b[0m\u001b[1;33m(\u001b[0m\u001b[0mspin\u001b[0m \u001b[1;33m=\u001b[0m\u001b[1;36m0\u001b[0m\u001b[1;33m,\u001b[0m \u001b[0mel\u001b[0m \u001b[1;33m=\u001b[0m \u001b[1;36m90\u001b[0m\u001b[1;33m,\u001b[0m \u001b[0maz\u001b[0m \u001b[1;33m=\u001b[0m\u001b[1;36m0\u001b[0m\u001b[1;33m)\u001b[0m \u001b[1;31m#センサ視軸\u001b[0m\u001b[1;33m\u001b[0m\u001b[1;33m\u001b[0m\u001b[0m\n\u001b[0;32m      4\u001b[0m \u001b[0mopp_lla\u001b[0m \u001b[1;33m=\u001b[0m \u001b[0mLLA\u001b[0m\u001b[1;33m(\u001b[0m\u001b[0mlat\u001b[0m \u001b[1;33m=\u001b[0m\u001b[1;36m36\u001b[0m\u001b[1;33m,\u001b[0m \u001b[0mlon\u001b[0m \u001b[1;33m=\u001b[0m \u001b[1;36m135\u001b[0m\u001b[1;33m,\u001b[0m \u001b[0malt\u001b[0m \u001b[1;33m=\u001b[0m \u001b[1;36m10005\u001b[0m\u001b[1;33m)\u001b[0m \u001b[1;31m#相手機位置\u001b[0m\u001b[1;33m\u001b[0m\u001b[1;33m\u001b[0m\u001b[0m\n\u001b[1;32m----> 5\u001b[1;33m \u001b[0msensor_fov\u001b[0m\u001b[1;33m=\u001b[0m\u001b[0mFOV\u001b[0m\u001b[1;33m(\u001b[0m\u001b[0maz\u001b[0m\u001b[1;33m=\u001b[0m \u001b[1;36m5\u001b[0m\u001b[1;33m,\u001b[0m\u001b[0mel\u001b[0m \u001b[1;33m=\u001b[0m\u001b[1;36m5\u001b[0m\u001b[1;33m)\u001b[0m \u001b[1;31m#センサ覆域\u001b[0m\u001b[1;33m\u001b[0m\u001b[1;33m\u001b[0m\u001b[0m\n\u001b[0m\u001b[0;32m      6\u001b[0m \u001b[0mfuze_range\u001b[0m \u001b[1;33m=\u001b[0m \u001b[1;36m10\u001b[0m \u001b[1;31m#センサレンジ　単位m\u001b[0m\u001b[1;33m\u001b[0m\u001b[1;33m\u001b[0m\u001b[0m\n",
      "\u001b[1;31mTypeError\u001b[0m: __init__() got an unexpected keyword argument 'az'"
     ]
    }
   ],
   "source": [
    "own_lla = LLA(lat = 36, lon =135, alt=10000) #自機位置\n",
    "own_att = AC_ATTITUDE(roll =0, pitch = 0,yaw =0) #自機姿勢\n",
    "sens_att =SENSOR_ATTITUDE(spin =0, el = 90, az =0) #センサ視軸\n",
    "opp_lla = LLA(lat =36, lon = 135, alt = 10005) #相手機位置\n",
    "sensor_fov=FOV(az= 5,el =5) #センサ覆域\n",
    "fuze_range = 10 #センサレンジ　単位m"
   ]
  },
  {
   "cell_type": "code",
   "execution_count": null,
   "id": "594e9e0a",
   "metadata": {},
   "outputs": [],
   "source": [
    "DETONATION().get_detonated(own_lla, own_att,sens_att,opp_lla,sensor_fov, fuze_range)"
   ]
  },
  {
   "cell_type": "code",
   "execution_count": null,
   "id": "5799170e",
   "metadata": {},
   "outputs": [],
   "source": []
  }
 ],
 "metadata": {
  "kernelspec": {
   "display_name": "base",
   "language": "python",
   "name": "python3"
  },
  "language_info": {
   "codemirror_mode": {
    "name": "ipython",
    "version": 3
   },
   "file_extension": ".py",
   "mimetype": "text/x-python",
   "name": "python",
   "nbconvert_exporter": "python",
   "pygments_lexer": "ipython3",
   "version": "3.7.11"
  }
 },
 "nbformat": 4,
 "nbformat_minor": 5
}
