{
 "cells": [
  {
   "cell_type": "markdown",
   "id": "34e104e4",
   "metadata": {},
   "source": [
    "# センサモデル"
   ]
  },
  {
   "cell_type": "code",
   "execution_count": 2,
   "id": "17e911b0",
   "metadata": {},
   "outputs": [
    {
     "name": "stderr",
     "output_type": "stream",
     "text": [
      "c:\\users\\zzmasubuj\\miniconda\\envs\\masu_001\\lib\\site-packages\\quaternion\\numba_wrapper.py:23: UserWarning: \n",
      "\n",
      "!!!!!!!!!!!!!!!!!!!!!!!!!!!!!!!!!!!!!!!!!!!!!!!!!!!!!\n",
      "Could not import from numba, which means that some\n",
      "parts of this code may run MUCH more slowly.  You\n",
      "may wish to install numba.\n",
      "!!!!!!!!!!!!!!!!!!!!!!!!!!!!!!!!!!!!!!!!!!!!!!!!!!!!!\n",
      "\n",
      "  warnings.warn(warning_text)\n"
     ]
    }
   ],
   "source": [
    "import numpy as np\n",
    "import quaternion"
   ]
  },
  {
   "cell_type": "code",
   "execution_count": 3,
   "id": "8b7c9e8b",
   "metadata": {},
   "outputs": [],
   "source": [
    "import sys\n",
    "sys.path.append('../')\n",
    "sys.path.append('../utility')"
   ]
  },
  {
   "cell_type": "code",
   "execution_count": 4,
   "id": "8e9de198",
   "metadata": {},
   "outputs": [],
   "source": [
    "#座標系クラスのインポート\n",
    "from COORDINATION_SYSTEMS import ECEF, LLA, NED, FRD, AC_ATTITUDE, LOCAL, SENSOR_ATTITUDE, FOCAL_POSITION, FOCAL_ANGLE\n",
    "#WGS84座標変換クラスのインポート\n",
    "from WGS84_COORDINATE_CONVERT import WGS84_COORDINATION_CONVERT\n",
    "#座標変換クラスのインポート\n",
    "from ATTITUDE_CONVERT import ATTITUDE_CONVERT\n",
    "#センサ取得情報クラスのインポート\n",
    "from SENSOR_FOCAL import SENSOR_FOCAL\n",
    "#センサ性能クラスのインポート\n",
    "from SENSOR_PERFORMANCE import FOV"
   ]
  },
  {
   "cell_type": "markdown",
   "id": "45b891a4",
   "metadata": {},
   "source": [
    "クラス定義"
   ]
  },
  {
   "cell_type": "code",
   "execution_count": 5,
   "id": "3526cc86",
   "metadata": {},
   "outputs": [],
   "source": [
    "class SENSOR_RECOGNITION():\n",
    "    def __init__ (self):\n",
    "        self.detected = 0\n",
    "        self.oriented = 0\n",
    "        self.recognized = 0\n",
    "        self.identified = 0\n",
    "        \n",
    "    def get_recognition_level(self, own_lla =LLA(), own_att =AC_ATTITUDE(), sens_att = SENSOR_ATTITUDE(), opp_lla=LLA(), fov = FOV(),sensor_range=0):\n",
    "        #用途：センサの認知判定を行う。\n",
    "        #入力：自機位置 緯度経度高度　単位：°　（オイラーシーケンス：経度→緯度）\n",
    "        #入力：自機姿勢 ロール、ピッチ、ヨー 単位：°（オイラーシーケンス：ヨー→ピッチ→ロール）\n",
    "        #入力：センサ視軸 スピン、EL、AZ 単位：° （オイラーシーケンス：投影AZ→投影EL）\n",
    "        #入力：相手機位置 緯度経度高度 単位：°（オイラーシーケンス：経度→緯度）\n",
    "        #入力：センサ覆域（画像なら視野角） 覆域AZ、覆域EL 単位：°（オイラーシーケンス：覆域AZ→覆域EL）\n",
    "        #出力：判定レベル（detection,orientation,recognition,identification) 単位：0=false 1=true\n",
    "        \n",
    "        #self.own_lla = own_lla\n",
    "        #self.own_att = own_att\n",
    "        #self.sens_att = sens_att\n",
    "        #self.opp_lla = opp_lla\n",
    "        \n",
    "        \n",
    "        #距離判定\n",
    "        distance = SENSOR_FOCAL().get_focal_distance(own_lla, opp_lla)\n",
    "        \n",
    "        \n",
    "        #視野判定\n",
    "        focal = SENSOR_FOCAL().get_focal_angle(own_lla, own_att, sens_att, opp_lla)\n",
    "        \n",
    "        #recog_level = self.RECOGNITION_LEVEL(detected = 3, oriented = 3, recognized = 3, identified = 3)\n",
    "\n",
    "        self.detected = 0\n",
    "        self.oriented = 0\n",
    "        self.recognized = 0\n",
    "        self.identified = 0\n",
    "        \n",
    "        if(distance < sensor_range):\n",
    "            if(focal.focal_az < fov.az):\n",
    "                if(focal.focal_el < fov.el):      \n",
    "                    self.detected = 1\n",
    "                    self.oriented = 1\n",
    "                    self.recognized = 1\n",
    "                    self.identified = 1\n",
    "        \n",
    "        return  self.detected, self.oriented, self.recognized, self.identified"
   ]
  },
  {
   "cell_type": "markdown",
   "id": "0cad3a03",
   "metadata": {},
   "source": [
    "## 使い方"
   ]
  },
  {
   "cell_type": "code",
   "execution_count": 7,
   "id": "5f154cd9",
   "metadata": {},
   "outputs": [],
   "source": [
    "own_lla = LLA(lat = 36.0, lon =135.1, alt=10000) #自機位置\n",
    "own_att = AC_ATTITUDE(roll =0, pitch = 0,yaw =0) #自機姿勢\n",
    "sens_att =SENSOR_ATTITUDE(spin =0, el = 80, az =0) #センサ視軸\n",
    "opp_lla = LLA(lat =36, lon = 135, alt = 12000) #相手機位置\n",
    "sensor_fov=FOV(nAz= 5,nEl =5,nSize=0) #センサ覆域\n",
    "sensor_range = 10000 #センサレンジ　単位m"
   ]
  },
  {
   "cell_type": "code",
   "execution_count": 8,
   "id": "3b658536",
   "metadata": {},
   "outputs": [
    {
     "data": {
      "text/plain": [
       "(1, 1, 1, 1)"
      ]
     },
     "execution_count": 8,
     "metadata": {},
     "output_type": "execute_result"
    }
   ],
   "source": [
    "SENSOR_RECOGNITION().get_recognition_level(own_lla, own_att,sens_att,opp_lla,sensor_fov, sensor_range)"
   ]
  },
  {
   "cell_type": "code",
   "execution_count": null,
   "id": "1f344818",
   "metadata": {},
   "outputs": [],
   "source": []
  },
  {
   "cell_type": "code",
   "execution_count": null,
   "id": "a0ae20f4",
   "metadata": {},
   "outputs": [],
   "source": []
  }
 ],
 "metadata": {
  "kernelspec": {
   "display_name": "base",
   "language": "python",
   "name": "python3"
  },
  "language_info": {
   "codemirror_mode": {
    "name": "ipython",
    "version": 3
   },
   "file_extension": ".py",
   "mimetype": "text/x-python",
   "name": "python",
   "nbconvert_exporter": "python",
   "pygments_lexer": "ipython3",
   "version": "3.7.11"
  }
 },
 "nbformat": 4,
 "nbformat_minor": 5
}
