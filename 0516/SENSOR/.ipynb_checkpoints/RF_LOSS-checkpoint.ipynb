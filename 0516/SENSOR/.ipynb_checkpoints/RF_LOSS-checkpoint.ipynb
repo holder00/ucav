{
 "cells": [
  {
   "cell_type": "markdown",
   "id": "eb7ad128",
   "metadata": {},
   "source": [
    "# RF回線計算（レーダ照射、RCS反射）"
   ]
  },
  {
   "cell_type": "code",
   "execution_count": 1,
   "id": "c3c8bcd9",
   "metadata": {},
   "outputs": [
    {
     "name": "stderr",
     "output_type": "stream",
     "text": [
      "c:\\users\\zzmasubuj\\miniconda\\envs\\masu_001\\lib\\site-packages\\quaternion\\numba_wrapper.py:23: UserWarning: \n",
      "\n",
      "!!!!!!!!!!!!!!!!!!!!!!!!!!!!!!!!!!!!!!!!!!!!!!!!!!!!!\n",
      "Could not import from numba, which means that some\n",
      "parts of this code may run MUCH more slowly.  You\n",
      "may wish to install numba.\n",
      "!!!!!!!!!!!!!!!!!!!!!!!!!!!!!!!!!!!!!!!!!!!!!!!!!!!!!\n",
      "\n",
      "  warnings.warn(warning_text)\n",
      "c:\\users\\zzmasubuj\\miniconda\\envs\\masu_001\\lib\\site-packages\\quaternion\\calculus.py:477: UserWarning: \n",
      "\n",
      "!!!!!!!!!!!!!!!!!!!!!!!!!!!!!!!!!!!!!!!!!!!!!!!!!!!!!!!!!\n",
      "Could not import from scipy, which means that derivatives\n",
      "and integrals will use less accurate finite-differencing\n",
      "techniques.  You may want to install scipy.\n",
      "!!!!!!!!!!!!!!!!!!!!!!!!!!!!!!!!!!!!!!!!!!!!!!!!!!!!!!!!!\n",
      "\n",
      "  warnings.warn(warning_text)\n"
     ]
    },
    {
     "ename": "ModuleNotFoundError",
     "evalue": "No module named 'COORDINATION_SYSTEMS'",
     "output_type": "error",
     "traceback": [
      "\u001b[1;31m---------------------------------------------------------------------------\u001b[0m",
      "\u001b[1;31mModuleNotFoundError\u001b[0m                       Traceback (most recent call last)",
      "\u001b[1;32mC:\\Users\\ZZMASU~1\\AppData\\Local\\Temp/ipykernel_11116/289930736.py\u001b[0m in \u001b[0;36m<module>\u001b[1;34m\u001b[0m\n\u001b[0;32m      6\u001b[0m \u001b[1;33m\u001b[0m\u001b[0m\n\u001b[0;32m      7\u001b[0m \u001b[1;31m#座標系クラスのインポート\u001b[0m\u001b[1;33m\u001b[0m\u001b[1;33m\u001b[0m\u001b[1;33m\u001b[0m\u001b[0m\n\u001b[1;32m----> 8\u001b[1;33m \u001b[1;32mfrom\u001b[0m \u001b[0mCOORDINATION_SYSTEMS\u001b[0m \u001b[1;32mimport\u001b[0m \u001b[0mECEF\u001b[0m\u001b[1;33m,\u001b[0m \u001b[0mLLA\u001b[0m\u001b[1;33m,\u001b[0m \u001b[0mNED\u001b[0m\u001b[1;33m,\u001b[0m \u001b[0mFRD\u001b[0m\u001b[1;33m,\u001b[0m \u001b[0mAC_ATTITUDE\u001b[0m\u001b[1;33m,\u001b[0m \u001b[0mLOCAL\u001b[0m\u001b[1;33m,\u001b[0m \u001b[0mSENSOR_ATTITUDE\u001b[0m\u001b[1;33m,\u001b[0m \u001b[0mFOCAL_POSITION\u001b[0m\u001b[1;33m,\u001b[0m \u001b[0mFOCAL_ANGLE\u001b[0m\u001b[1;33m\u001b[0m\u001b[1;33m\u001b[0m\u001b[0m\n\u001b[0m\u001b[0;32m      9\u001b[0m \u001b[1;31m#WGS84座標変換クラスのインポート\u001b[0m\u001b[1;33m\u001b[0m\u001b[1;33m\u001b[0m\u001b[1;33m\u001b[0m\u001b[0m\n\u001b[0;32m     10\u001b[0m \u001b[1;32mfrom\u001b[0m \u001b[0mWGS84_COORDINATE_CONVERT\u001b[0m \u001b[1;32mimport\u001b[0m \u001b[0mWGS84_COORDINATION_CONVERT\u001b[0m\u001b[1;33m\u001b[0m\u001b[1;33m\u001b[0m\u001b[0m\n",
      "\u001b[1;31mModuleNotFoundError\u001b[0m: No module named 'COORDINATION_SYSTEMS'"
     ]
    }
   ],
   "source": [
    "import numpy as np\n",
    "import quaternion\n",
    "\n",
    "import sys\n",
    "sys.path.append('../')\n",
    "sys.path.append('../utility')\n",
    "\n",
    "#座標系クラスのインポート\n",
    "from COORDINATION_SYSTEMS import ECEF, LLA, NED, FRD, AC_ATTITUDE, LOCAL, SENSOR_ATTITUDE, FOCAL_POSITION, FOCAL_ANGLE\n",
    "#WGS84座標変換クラスのインポート\n",
    "from WGS84_COORDINATE_CONVERT import WGS84_COORDINATION_CONVERT\n",
    "#座標変換クラスのインポート\n",
    "from ATTITUDE_CONVERT import ATTITUDE_CONVERT\n",
    "#センサ取得情報クラスのインポート\n",
    "from SENSOR_FOCAL import SENSOR_FOCAL\n",
    "#センサ性能クラスのインポート\n",
    "from SENSOR_PERFORMANCE import FOV\n",
    "#センサモデルクラスのインポート\n",
    "from SENSOR_MODEL import SENSOR_RECOGNITION"
   ]
  },
  {
   "cell_type": "markdown",
   "id": "06cee1ec",
   "metadata": {},
   "source": [
    "### クラス：アンテナ利得（σi)<br>\n",
    "入力：Focal_Az、Focal_El<br>\n",
    "出力：σi　単位なし（無次元量）<br>\n",
    "$$\n",
    " \\sigma_{i} (Az,El)\n",
    "$$"
   ]
  },
  {
   "cell_type": "code",
   "execution_count": 2,
   "id": "8f577c09",
   "metadata": {},
   "outputs": [],
   "source": [
    "class AntGain:\n",
    "    #コンストラクタ\n",
    "    def __init__(self):\n",
    "        self.dSumAz = 0\n",
    "        self.dSumEl = 0\n",
    "        self.Focal_Az = []\n",
    "        self.Focal_El = []\n",
    "    \n",
    "    #加算（リセット処理あり）\n",
    "    #入力：Focal_Az\n",
    "    #入力：Focal_El\n",
    "    #入力:flag<0>:前回値に加算、flag<1>：前回値クリア後加算\n",
    "    def SetGain(self,focal_ang=FOCAL_ANGLE(),flag=0):\n",
    "        if (flag == 1):\n",
    "            self.dSumAz = 0\n",
    "            self.dSumEl = 0\n",
    "            self.Focal_Az = []\n",
    "            self.Focal_El = []\n",
    "\n",
    "        self.dSumAz += focal_ang.focal_az\n",
    "        self.dSumEl += focal_ang.focal_el\n",
    "        self.Focal_Az.append(focal_ang.focal_az)\n",
    "        self.Focal_El.append(focal_ang.focal_el)\n",
    "        \n",
    "        print(\"Az\",self.dSumAz,\"El\",self.dSumEl)\n",
    "        #print(\"Az[]\",self.Focal_Az[len(self.Focal_Az)-1],\"El[]\",self.Focal_El[len(self.Focal_El)-1])\n",
    "\n",
    "    #ゲイン取得\n",
    "    #出力 AntGain\n",
    "    def GetGain(self):\n",
    "        #暫定　結果：1\n",
    "        self.dSumAz = 1\n",
    "        self.dSumEl = 1\n",
    "        return self"
   ]
  },
  {
   "cell_type": "code",
   "execution_count": 3,
   "id": "dd5bb97c",
   "metadata": {},
   "outputs": [
    {
     "name": "stdout",
     "output_type": "stream",
     "text": [
      "Az 2 El 1\n",
      "Az 22 El 11\n",
      "<__main__.AntGain object at 0x000001BDB90027C8>\n"
     ]
    }
   ],
   "source": [
    "#使用例\n",
    "AntGain = AntGain()\n",
    "AntGain.SetGain(FOCAL_ANGLE(1,2))\n",
    "AntGain.SetGain(FOCAL_ANGLE(10,20))\n",
    "\n",
    "print(AntGain.GetGain())\n"
   ]
  },
  {
   "cell_type": "markdown",
   "id": "88f0bef3",
   "metadata": {},
   "source": [
    "### クラス：ＲＣＳ(σrcs)\n",
    "入力：到来Az、到来El<br>\n",
    "出力：σrcs　単位なし（無次元量）<br>\n",
    "$$\n",
    " \\sigma_{RCS} (Az,El)\n",
    "$$"
   ]
  },
  {
   "cell_type": "code",
   "execution_count": 4,
   "id": "7b32e71d",
   "metadata": {},
   "outputs": [],
   "source": [
    "class Rcs:\n",
    "    #コンストラクタ\n",
    "    def __init__(self):\n",
    "        self.dSumRcs = 0\n",
    "        self.dAz = []\n",
    "        self.dEl = []\n",
    "    \n",
    "    #加算（リセット処理あり）\n",
    "    #入力：Focal_Az\n",
    "    #入力：Focal_El\n",
    "    #入力:flag<0>:前回値に加算、flag<1>：前回値クリア後加算\n",
    "    def SetRcs(self,focal_ang=FOCAL_ANGLE(),flag=0):\n",
    "        if (flag == 1):\n",
    "            self.dSumRcs = 0\n",
    "            self.dAz = []\n",
    "            self.dEl = []\n",
    "\n",
    "        #計算式　現状未定\n",
    "        #self.dSumRcs += \n",
    "        self.dAz.append(focal_ang.focal_az)\n",
    "        self.dEl.append(focal_ang.focal_el)\n",
    "        \n",
    "        print(\"Rcs\",self.dSumRcs)\n",
    "\n",
    "    #Rcs取得\n",
    "    #出力\n",
    "    def GetRcs(self):\n",
    "        #暫定　結果：1\n",
    "        self.dSumRcs = 1\n",
    "        return self.dSumRcs"
   ]
  },
  {
   "cell_type": "code",
   "execution_count": 5,
   "id": "a0a8995c",
   "metadata": {},
   "outputs": [
    {
     "name": "stdout",
     "output_type": "stream",
     "text": [
      "Rcs 0\n",
      "1\n"
     ]
    }
   ],
   "source": [
    "#使用例\n",
    "SencerRcs = Rcs()\n",
    "SencerRcs.SetRcs(FOCAL_ANGLE(1,2))\n",
    "\n",
    "print(SencerRcs.GetRcs())"
   ]
  },
  {
   "cell_type": "markdown",
   "id": "541b2605",
   "metadata": {},
   "source": [
    "### クラス：ＲＦ損失計算"
   ]
  },
  {
   "cell_type": "markdown",
   "id": "3ab3a746",
   "metadata": {},
   "source": [
    "メソッド：RF大気減衰(τ）<br>\n",
    "入力：Tempreture　単位 K（ケルビン）<br>\n",
    "入力：distance 単位m<br>\n",
    "入力：altitude 単位m <br>\n",
    "出力：1 (今は実装なし）<br>\n",
    "$$\n",
    " \\tau(Tempretur, distance, altitude) = 1\n",
    "$$"
   ]
  },
  {
   "cell_type": "code",
   "execution_count": 37,
   "id": "0ecac092",
   "metadata": {},
   "outputs": [],
   "source": [
    "import math\n",
    "\n",
    "class RfLos():\n",
    "    #コンストラクタ\n",
    "    def __init__(self,dTemp=0,dDis=0,dAlt=0):\n",
    "        self.dTemp = dTemp\n",
    "        self.dDis = dDis\n",
    "        self.dAlt = dAlt\n",
    "        self.dPtxsm = 0\n",
    "        self.dPref = 0\n",
    "        self.dPrx = 0\n",
    "    \n",
    "    #取得\n",
    "    def GetRfLos(self):\n",
    "        return self\n",
    "    \n",
    "    #RF対気減衰\n",
    "    #入力：Temp\n",
    "    #入力：Dis\n",
    "    #入力：Alt\n",
    "    def CalcRf(self,dTemp=0,dDis=0,dAlt=0):\n",
    "        print(\"Rf\",1)        \n",
    "        return 1\n",
    "\n",
    "    #メソッド：伝達電力\n",
    "    def CalcTrancePow(self,dPtx=0,dGain=0,dDis=0,dRfLos=0):\n",
    "        self.dPtxsm = (math.tau * dGain)/(4 * math.pi * math.pow(dDis,2)) * dPtx\n",
    "        print(\"Ptxsm\",self.dPtxsm)\n",
    "        return self.dPtxsm \n",
    "    \n",
    "    #メソッド：受信電力\n",
    "    def CalcRefPow(self,dRcs=0):\n",
    "        self.dPref = dRcs * self.dPtxsm\n",
    "        print(\"Pref\",self.dPref)\n",
    "        return self.dPref\n",
    "    \n",
    "    #メソッド：受信電力\n",
    "    def CalcRcvPow(self,dGain=0,dDis=0):\n",
    "        self.dPrx = (math.tau * dGain) / (4 * math.pi * math.pow(dDis,2)) * self.dPref\n",
    "        \n",
    "        #print(\"tau\",math.tau,math.tau*dGain)\n",
    "        #print(\" \",(4 * math.pi * math.pow(dDis,2)))\n",
    "        #print(\"Pref\",self.dPref)\n",
    "        print(\"Prx\",self.dPrx)\n",
    "        return self.dPrx\n",
    "    \n",
    "#los = RfLos(10,20,30)\n",
    "#data = los.GetRfLos()\n",
    "#print(\"Tmp\",data.dTemp,\"Dis\",data.dDis,\"Alt\",data.dAlt,\"Ptxsm\",data.dPtxsm,\"Pref\",data.dPref,\"Prx\",data.dPrx)"
   ]
  },
  {
   "cell_type": "code",
   "execution_count": 38,
   "id": "6d67a316",
   "metadata": {},
   "outputs": [
    {
     "name": "stdout",
     "output_type": "stream",
     "text": [
      "Rf 1\n",
      "Ptxsm 0.1111111111111111\n",
      "Pref 1.1111111111111112\n",
      "Prx 0.005555555555555556\n"
     ]
    }
   ],
   "source": [
    "#使用例\n",
    "Los = RfLos(10,20,30)\n",
    "calc = Los.CalcRf(1,2,3)\n",
    "calc = Los.CalcTrancePow(1,2,3,4)\n",
    "calc = Los.CalcRefPow(10)\n",
    "calc = Los.CalcRcvPow(1,10)\n"
   ]
  },
  {
   "cell_type": "markdown",
   "id": "1907dda4",
   "metadata": {},
   "source": [
    "メソッド：伝達電力<br>\n",
    "入力：発送電力 Ptx　単位：Ｗ（ワット）<br>\n",
    "入力：アンテナ利得 σi<br>\n",
    "入力：距離 R(distanceのこと）<br>\n",
    "入力：RF大気減衰τ\n",
    "出力：伝達電力Ptxsm　単位：Ｗ（ワット）<br>\n",
    "$$\n",
    " P_{txsm} = \\frac{\\tau \\sigma_i}{4 \\pi R^2} P_{tx}\n",
    "$$"
   ]
  },
  {
   "cell_type": "code",
   "execution_count": 7,
   "id": "15f53e58",
   "metadata": {},
   "outputs": [],
   "source": [
    "    def CalcTrancePow(self,dPtx=0,dGain=0,dDis=0,dRfLos=0):\n",
    "        self.dPtxsm = (math.tau * dGain)/(4 * math.pi * math.pow(dDis,2)) * dPtx\n",
    "        print(\"Ptxsm\",self.dPtxsm)\n",
    "        return self.dPtxsm"
   ]
  },
  {
   "cell_type": "markdown",
   "id": "1e3f1b46",
   "metadata": {},
   "source": [
    "メソッド：反射電力 <br>\n",
    "入力：伝達電力 Ptx<br>\n",
    "入力：RCS σrcs<br>\n",
    "出力：反射電力 Pref<br>\n",
    "$$\n",
    " P_{ref} = \\sigma_{RCS} P_{txsm}\n",
    "$$"
   ]
  },
  {
   "cell_type": "code",
   "execution_count": null,
   "id": "5fb6e551",
   "metadata": {},
   "outputs": [],
   "source": [
    "    def CalcRefPow(self,dRcs=0):\n",
    "        self.dPref = dRcs * self.dPtxsm\n",
    "        return self.dPref"
   ]
  },
  {
   "cell_type": "markdown",
   "id": "fab7348c",
   "metadata": {},
   "source": [
    "メソッド：受信電力 <br>\n",
    "入力：反射電力 Ptx<br>\n",
    "入力：アンテナ利得 σrcs<br>\n",
    "出力：受信電力 Prx<br>\n",
    "$$\n",
    " P_{rx} = \\frac{\\tau \\sigma_i}{4 \\pi R^2} P_{ref}\n",
    "$$"
   ]
  },
  {
   "cell_type": "code",
   "execution_count": 9,
   "id": "d3eeb866",
   "metadata": {},
   "outputs": [],
   "source": [
    "    def CalcRcvPow(self,dDis=0):\n",
    "        self.dPrx = (math.tau * dGain) / (4 * math.pi * math.pow(dDis,2)) * self.dPref\n",
    "        return self.dPrx"
   ]
  },
  {
   "cell_type": "code",
   "execution_count": null,
   "id": "c8557fab",
   "metadata": {},
   "outputs": [],
   "source": []
  },
  {
   "cell_type": "code",
   "execution_count": null,
   "id": "c2885649",
   "metadata": {},
   "outputs": [],
   "source": []
  }
 ],
 "metadata": {
  "kernelspec": {
   "display_name": "base",
   "language": "python",
   "name": "python3"
  },
  "language_info": {
   "codemirror_mode": {
    "name": "ipython",
    "version": 3
   },
   "file_extension": ".py",
   "mimetype": "text/x-python",
   "name": "python",
   "nbconvert_exporter": "python",
   "pygments_lexer": "ipython3",
   "version": "3.7.11"
  }
 },
 "nbformat": 4,
 "nbformat_minor": 5
}
