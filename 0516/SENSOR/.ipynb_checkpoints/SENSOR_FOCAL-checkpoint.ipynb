{
 "cells": [
  {
   "cell_type": "markdown",
   "id": "44c32c50",
   "metadata": {},
   "source": [
    "# センサの取得情報を計算する"
   ]
  },
  {
   "cell_type": "code",
   "execution_count": 5,
   "id": "79fb00e6",
   "metadata": {},
   "outputs": [],
   "source": [
    "import numpy as np\n",
    "import quaternion"
   ]
  },
  {
   "cell_type": "code",
   "execution_count": 6,
   "id": "c996ef2f",
   "metadata": {},
   "outputs": [],
   "source": [
    "import sys\n",
    "sys.path.append('../')\n",
    "sys.path.append('../utility')"
   ]
  },
  {
   "cell_type": "code",
   "execution_count": 7,
   "id": "6fca5e98",
   "metadata": {},
   "outputs": [],
   "source": [
    "#座標系クラスのインポート\n",
    "from COORDINATION_SYSTEMS import ECEF, LLA, NED, FRD, AC_ATTITUDE, LOCAL, SENSOR_ATTITUDE, FOCAL_POSITION, FOCAL_ANGLE"
   ]
  },
  {
   "cell_type": "code",
   "execution_count": 8,
   "id": "001f48a9",
   "metadata": {},
   "outputs": [],
   "source": [
    "#WGS84座標変換クラスのインポート\n",
    "from WGS84_COORDINATE_CONVERT import WGS84_COORDINATION_CONVERT"
   ]
  },
  {
   "cell_type": "code",
   "execution_count": 9,
   "id": "171c8474",
   "metadata": {},
   "outputs": [],
   "source": [
    "#座標変換クラスのインポート\n",
    "from ATTITUDE_CONVERT import ATTITUDE_CONVERT"
   ]
  },
  {
   "cell_type": "markdown",
   "id": "8f414830",
   "metadata": {},
   "source": [
    "## クラス定義"
   ]
  },
  {
   "cell_type": "code",
   "execution_count": 10,
   "id": "a127f495",
   "metadata": {},
   "outputs": [],
   "source": [
    "class SENSOR_FOCAL(WGS84_COORDINATION_CONVERT):\n",
    "    \n",
    "    def get_focal_distance(self, own_lla = LLA(), opp_lla = LLA()):\n",
    "        #入力 WGS84 LLA座標\n",
    "        #出力　レンジ 単位m\n",
    "        self.own_lla= own_lla #WGS84緯度経度高度座標 単位°とm\n",
    "        self.opp_lla = opp_lla #WGS84緯度経度高度座標 単位°とm\n",
    "        \n",
    "        #誤差\n",
    "        gosa = 0\n",
    "        \n",
    "        distance = self.get_distance(self.own_lla, self.opp_lla) + gosa\n",
    "        \n",
    "        return distance  \n",
    "    \n",
    "    def get_focal_angle(self, own_lla = LLA(), own_att = AC_ATTITUDE(), sens_att = SENSOR_ATTITUDE(), opp_lla = LLA()):\n",
    "        #用途：センサ投影角度を算出\n",
    "        #入力：自機位置 緯度経度高度　単位：°\n",
    "        #入力：自機姿勢 ロール、ピッチ、ヨー 単位：°\n",
    "        #入力：センサ視軸 スピン、EL、AZ 単位：°\n",
    "        #入力：相手機位置 緯度経度高度 単位：°\n",
    "        #出力：センサ投影角度 投影AZ、投影EL 単位：°（オイラーシーケンス：投影AZ→投影EL）\n",
    "        \n",
    "        self.own_lla = own_lla\n",
    "        self.own_att = own_att\n",
    "        self.sens_att = sens_att\n",
    "        self.opp_lla = opp_lla\n",
    "        \n",
    "        #緯度経度高度をECEF座標に変換\n",
    "        own_ecef = self.lla2ecef(own_lla)\n",
    "        opp_ecef = self.lla2ecef(opp_lla)\n",
    "        \n",
    "        #自機を原点においた局所座標\n",
    "        local = LOCAL()\n",
    "        local.local_x = opp_ecef.x - own_ecef.x\n",
    "        local.local_y = opp_ecef.y - own_ecef.y\n",
    "        local.local_z = opp_ecef.z - own_ecef.z\n",
    "        \n",
    "        #局所座標からNED座標（真北、東、下）に変換\n",
    "        ned = ATTITUDE_CONVERT().local2ned(local, self.own_lla)\n",
    "        \n",
    "        #NED座標を機体固定座標（前、右、下）に変換\n",
    "        frd = ATTITUDE_CONVERT().ned2frd(ned,self.own_att)\n",
    "        \n",
    "        #機体固定座標をセンサ固定座標（水平右、垂直下、奥行前）に変換\n",
    "        focal_position = ATTITUDE_CONVERT().frd2focal(frd, self.sens_att)\n",
    "        \n",
    "        #センサ固定座標からセンサ投影角度を算出\n",
    "        focal_angle = FOCAL_ANGLE()\n",
    "        focal_angle.focal_az = np.degrees(np.arctan2(focal_position.horizontal , focal_position.depth))\n",
    "        focal_angle.focal_el = -np.degrees(np.arctan2(focal_position.vertical , np.sqrt(focal_position.horizontal**2 +focal_position.depth**2)))\n",
    "        return focal_angle\n",
    "    "
   ]
  },
  {
   "cell_type": "markdown",
   "id": "7b3af0ee",
   "metadata": {},
   "source": [
    "## 使い方"
   ]
  },
  {
   "cell_type": "markdown",
   "id": "48012a6a",
   "metadata": {},
   "source": [
    "センサによる測距"
   ]
  },
  {
   "cell_type": "code",
   "execution_count": 6,
   "id": "2dd968ab",
   "metadata": {},
   "outputs": [
    {
     "name": "stdout",
     "output_type": "stream",
     "text": [
      "1999.9999999997003\n"
     ]
    }
   ],
   "source": [
    "own_lla =LLA(lat=35, lon=135, alt=10000)\n",
    "opp_lla =LLA(lat=35, lon=135, alt=12000)\n",
    "distance = SENSOR_FOCAL().get_focal_distance(own_lla, opp_lla)\n",
    "print(distance)"
   ]
  },
  {
   "cell_type": "markdown",
   "id": "738584e4",
   "metadata": {},
   "source": [
    "自機位置、姿勢、センサ姿勢と敵位置から、センサに映り込む角度を算出"
   ]
  },
  {
   "cell_type": "code",
   "execution_count": 7,
   "id": "edf0ed13",
   "metadata": {},
   "outputs": [
    {
     "name": "stdout",
     "output_type": "stream",
     "text": [
      "-22.76047627462096 33.825844970558876\n"
     ]
    }
   ],
   "source": [
    "own_lla =LLA(lat=35, lon=135, alt=10000)\n",
    "own_att = AC_ATTITUDE(roll =0, pitch = 20, yaw =0)\n",
    "sens_att = SENSOR_ATTITUDE(spin =30,el = 30,az =0)\n",
    "opp_lla =LLA(lat=35, lon=135, alt=12000)\n",
    "focal_angle = SENSOR_FOCAL().get_focal_angle(own_lla, own_att, sens_att, opp_lla)\n",
    "print(focal_angle.focal_az, focal_angle.focal_el)"
   ]
  },
  {
   "cell_type": "code",
   "execution_count": null,
   "id": "a48b7608",
   "metadata": {},
   "outputs": [],
   "source": []
  },
  {
   "cell_type": "code",
   "execution_count": null,
   "id": "5fb07e4f",
   "metadata": {},
   "outputs": [],
   "source": []
  }
 ],
 "metadata": {
  "kernelspec": {
   "display_name": "base",
   "language": "python",
   "name": "python3"
  },
  "language_info": {
   "codemirror_mode": {
    "name": "ipython",
    "version": 3
   },
   "file_extension": ".py",
   "mimetype": "text/x-python",
   "name": "python",
   "nbconvert_exporter": "python",
   "pygments_lexer": "ipython3",
   "version": "3.7.11"
  }
 },
 "nbformat": 4,
 "nbformat_minor": 5
}
