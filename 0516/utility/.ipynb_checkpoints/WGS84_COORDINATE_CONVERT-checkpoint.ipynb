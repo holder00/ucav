{
 "cells": [
  {
   "cell_type": "markdown",
   "id": "f7379ec5",
   "metadata": {},
   "source": [
    "# WGS84座標変換"
   ]
  },
  {
   "cell_type": "markdown",
   "id": "d37a7185",
   "metadata": {},
   "source": [
    "作成：電シス 浅井2021.8.30"
   ]
  },
  {
   "cell_type": "code",
   "execution_count": 1,
   "id": "04a98aa6",
   "metadata": {
    "scrolled": true
   },
   "outputs": [
    {
     "name": "stderr",
     "output_type": "stream",
     "text": [
      "c:\\users\\zzmasubuj\\miniconda\\envs\\masu_001\\lib\\site-packages\\quaternion\\numba_wrapper.py:23: UserWarning: \n",
      "\n",
      "!!!!!!!!!!!!!!!!!!!!!!!!!!!!!!!!!!!!!!!!!!!!!!!!!!!!!\n",
      "Could not import from numba, which means that some\n",
      "parts of this code may run MUCH more slowly.  You\n",
      "may wish to install numba.\n",
      "!!!!!!!!!!!!!!!!!!!!!!!!!!!!!!!!!!!!!!!!!!!!!!!!!!!!!\n",
      "\n",
      "  warnings.warn(warning_text)\n",
      "c:\\users\\zzmasubuj\\miniconda\\envs\\masu_001\\lib\\site-packages\\quaternion\\calculus.py:477: UserWarning: \n",
      "\n",
      "!!!!!!!!!!!!!!!!!!!!!!!!!!!!!!!!!!!!!!!!!!!!!!!!!!!!!!!!!\n",
      "Could not import from scipy, which means that derivatives\n",
      "and integrals will use less accurate finite-differencing\n",
      "techniques.  You may want to install scipy.\n",
      "!!!!!!!!!!!!!!!!!!!!!!!!!!!!!!!!!!!!!!!!!!!!!!!!!!!!!!!!!\n",
      "\n",
      "  warnings.warn(warning_text)\n"
     ]
    }
   ],
   "source": [
    "import numpy as np\n",
    "import quaternion"
   ]
  },
  {
   "cell_type": "code",
   "execution_count": null,
   "id": "d23ec1e8",
   "metadata": {},
   "outputs": [],
   "source": [
    "import sys\n",
    "sys.path.append('../')"
   ]
  },
  {
   "cell_type": "code",
   "execution_count": 2,
   "id": "2779cd22",
   "metadata": {},
   "outputs": [
    {
     "ename": "ModuleNotFoundError",
     "evalue": "No module named 'COORDINATION_SYSTEMS'",
     "output_type": "error",
     "traceback": [
      "\u001b[1;31m---------------------------------------------------------------------------\u001b[0m",
      "\u001b[1;31mModuleNotFoundError\u001b[0m                       Traceback (most recent call last)",
      "\u001b[1;32mC:\\Users\\ZZMASU~1\\AppData\\Local\\Temp/ipykernel_5332/2129665039.py\u001b[0m in \u001b[0;36m<module>\u001b[1;34m\u001b[0m\n\u001b[1;32m----> 1\u001b[1;33m \u001b[1;32mfrom\u001b[0m \u001b[0mCOORDINATION_SYSTEMS\u001b[0m \u001b[1;32mimport\u001b[0m \u001b[0mECEF\u001b[0m\u001b[1;33m,\u001b[0m \u001b[0mLLA\u001b[0m\u001b[1;33m,\u001b[0m \u001b[0mNED\u001b[0m\u001b[1;33m,\u001b[0m \u001b[0mFRD\u001b[0m\u001b[1;33m,\u001b[0m \u001b[0mAC_ATTITUDE\u001b[0m\u001b[1;33m,\u001b[0m \u001b[0mLOCAL\u001b[0m\u001b[1;33m,\u001b[0m \u001b[0mSENSOR_ATTITUDE\u001b[0m\u001b[1;33m,\u001b[0m \u001b[0mFOCAL_POSITION\u001b[0m\u001b[1;33m,\u001b[0m \u001b[0mFOCAL_ANGLE\u001b[0m\u001b[1;33m\u001b[0m\u001b[1;33m\u001b[0m\u001b[0m\n\u001b[0m",
      "\u001b[1;31mModuleNotFoundError\u001b[0m: No module named 'COORDINATION_SYSTEMS'"
     ]
    }
   ],
   "source": [
    "from COORDINATION_SYSTEMS import ECEF, LLA, NED, FRD, AC_ATTITUDE, LOCAL, SENSOR_ATTITUDE, FOCAL_POSITION, FOCAL_ANGLE"
   ]
  },
  {
   "cell_type": "markdown",
   "id": "299c26f3",
   "metadata": {},
   "source": [
    "## クラス定義"
   ]
  },
  {
   "cell_type": "code",
   "execution_count": 3,
   "id": "ef01280a",
   "metadata": {},
   "outputs": [],
   "source": [
    "class WGS84_COORDINATION_CONVERT:\n",
    "    #WGS84での座標変換\n",
    "    def __init__(self):\n",
    "        self.a = 6378137.0 #赤道面平均半径　単位m\n",
    "        self.f = 1/298.257223563 #扁平率\n",
    "        self.e = np.sqrt(2.0*self.f - self.f**2)\n",
    "    \n",
    "    def lla2ecef(self, lla = LLA()):\n",
    "        #原理：https://www.enri.go.jp/~fks442/K_MUSEN/1st/1st060428rev2.pdf\n",
    "        self.lla = lla\n",
    "        ecef = ECEF()\n",
    "        N = self.a / np.sqrt( 1.0- (self.e**2) *np.sin(np.radians(self.lla.lat))**2)\n",
    "        \n",
    "        ecef.x = (N + self.lla.alt)*np.cos(np.radians(self.lla.lat))*np.cos(np.radians(self.lla.lon))\n",
    "        ecef.y = (N + self.lla.alt)*np.cos(np.radians(self.lla.lat))*np.sin(np.radians(self.lla.lon))\n",
    "        ecef.z = (N*(1.0 - self.e**2) + self.lla.alt)*np.sin(np.radians(self.lla.lat))\n",
    "        \n",
    "        #print(ecef.x, ecef.y, ecef.z)\n",
    "        \n",
    "        return ecef\n",
    "\n",
    "    def ecef2lla(self, ecef = ECEF()):\n",
    "        #原理：https://www.enri.go.jp/~fks442/K_MUSEN/1st/1st060428rev2.pdf\n",
    "        self.ecef = ecef\n",
    "        \n",
    "        lla = LLA()\n",
    "        \n",
    "        e_sq = 2.0*self.f - self.f**2\n",
    "        e_dot_sq = e_sq/((1.0-self.f)**2)\n",
    "        b=(1.0-self.f)*self.a\n",
    "        p= np.sqrt(self.ecef.x**2 + self.ecef.y**2)\n",
    "        theta_rad = np.arctan((self.ecef.z/p)/(1.0 - self.f))\n",
    "        \n",
    "        #メモ逆正弦の地域が[-pi,pi]となるようにarctan2を使っている。\n",
    "        lla.lat = np.degrees(np.arctan2(self.ecef.z + e_dot_sq*b*np.sin(theta_rad)**3, p - e_sq*self.a*np.cos(theta_rad)**3))\n",
    "        lla.lon = np.degrees(np.arctan2(self.ecef.y, self.ecef.x))\n",
    "        \n",
    "        N = self.a / np.sqrt( 1.0- (self.e**2) *(np.sin(np.radians(lla.lat))**2))\n",
    "        \n",
    "        lla.alt = (p/np.cos(np.radians(lla.lat))) - N\n",
    "        \n",
    "        return lla\n",
    "    \n",
    "    def get_distance(self, lla1 = LLA(), lla2 = LLA()):\n",
    "        #入力 WGS84 LLA座標\n",
    "        #出力　レンジ 単位m\n",
    "        self.lla1 = lla1 #WGS84緯度経度高度座標 単位°とm\n",
    "        self.lla2 = lla2 #WGS84緯度経度高度座標 単位°とm\n",
    "        \n",
    "        ecef1 =  self.lla2ecef(self.lla1)\n",
    "        ecef2 =  self.lla2ecef(self.lla2)\n",
    "                \n",
    "        distance = np.sqrt((ecef1.x - ecef2.x)**2 + (ecef1.y - ecef2.y)**2 +(ecef1.z - ecef2.z)**2)\n",
    "        \n",
    "        return distance  "
   ]
  },
  {
   "cell_type": "markdown",
   "id": "12843a36",
   "metadata": {},
   "source": [
    "## 使い方"
   ]
  },
  {
   "cell_type": "markdown",
   "id": "9b6c5211",
   "metadata": {},
   "source": [
    "（緯度、経度、高度）→（X、Y、Z）@ECEF<br>\n",
    "input<br>\n",
    "単位：緯度、経度＝°<br>\n",
    "単位：高度=m<br>\n",
    "output<br>\n",
    "単位：X、Y、Z=m"
   ]
  },
  {
   "cell_type": "code",
   "execution_count": 4,
   "id": "44d2c9b5",
   "metadata": {},
   "outputs": [
    {
     "name": "stdout",
     "output_type": "stream",
     "text": [
      "-3698528.2100023334 3698528.2100023343 3637924.26702173\n"
     ]
    }
   ],
   "source": [
    "lla =LLA(35,135,100)\n",
    "ecef = WGS84_COORDINATION_CONVERT().lla2ecef(lla)\n",
    "print(ecef.x, ecef.y, ecef.z)"
   ]
  },
  {
   "cell_type": "markdown",
   "id": "6c63cdb4",
   "metadata": {},
   "source": [
    "（X、Y、Z)@ECEF→（緯度、経度、高度）<br>\n",
    "input<br>\n",
    "単位：緯度、経度＝°<br>\n",
    "単位：高度=m<br>\n",
    "output<br>\n",
    "単位：X、Y、Z=m"
   ]
  },
  {
   "cell_type": "code",
   "execution_count": 5,
   "id": "8810b4ea",
   "metadata": {},
   "outputs": [
    {
     "name": "stdout",
     "output_type": "stream",
     "text": [
      "35.00000000000001 135.0 99.99999999906868\n"
     ]
    }
   ],
   "source": [
    "ecef = ECEF(-3698528.2100023334,3698528.2100023343,3637924.26702173)\n",
    "lla  = WGS84_COORDINATION_CONVERT().ecef2lla(ecef)\n",
    "print(lla.lat, lla.lon, lla.alt)"
   ]
  },
  {
   "cell_type": "markdown",
   "id": "a4ce1f57",
   "metadata": {},
   "source": [
    "2つの緯度経度高度の距離計算<br>\n",
    "input<br>\n",
    "単位：緯度、経度＝°<br>\n",
    "単位：高度=m<br>\n",
    "output<br>\n",
    "単位：距離=m"
   ]
  },
  {
   "cell_type": "code",
   "execution_count": 6,
   "id": "fd5f030e",
   "metadata": {},
   "outputs": [
    {
     "name": "stdout",
     "output_type": "stream",
     "text": [
      "1999.9999999997003\n"
     ]
    }
   ],
   "source": [
    "lla1 =LLA(35,135,10000)\n",
    "lla2 =LLA(35,135,12000)\n",
    "distance = WGS84_COORDINATION_CONVERT().get_distance(lla1, lla2)\n",
    "print(distance)"
   ]
  },
  {
   "cell_type": "code",
   "execution_count": null,
   "id": "77722dbe",
   "metadata": {},
   "outputs": [],
   "source": []
  }
 ],
 "metadata": {
  "kernelspec": {
   "display_name": "base",
   "language": "python",
   "name": "python3"
  },
  "language_info": {
   "codemirror_mode": {
    "name": "ipython",
    "version": 3
   },
   "file_extension": ".py",
   "mimetype": "text/x-python",
   "name": "python",
   "nbconvert_exporter": "python",
   "pygments_lexer": "ipython3",
   "version": "3.7.11"
  }
 },
 "nbformat": 4,
 "nbformat_minor": 5
}
