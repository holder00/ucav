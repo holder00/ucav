{
 "cells": [
  {
   "cell_type": "markdown",
   "id": "4a7b63a1",
   "metadata": {},
   "source": [
    "# WGS84でXYZ＠ECEFとLLA(Latitude,Logitude,Altitude)を変換する"
   ]
  },
  {
   "cell_type": "markdown",
   "id": "d403b8b6",
   "metadata": {},
   "source": [
    "作成：電シス　浅井(2021.8.18)"
   ]
  },
  {
   "cell_type": "markdown",
   "id": "5e310ded",
   "metadata": {},
   "source": [
    "参考サイト：https://www.enri.go.jp/~fks442/K_MUSEN/1st/1st060428rev2.pdf"
   ]
  },
  {
   "cell_type": "code",
   "execution_count": 1,
   "id": "31e69b12",
   "metadata": {},
   "outputs": [],
   "source": [
    "import numpy as np"
   ]
  },
  {
   "cell_type": "markdown",
   "id": "12d1e4de",
   "metadata": {},
   "source": [
    "### クラス定義"
   ]
  },
  {
   "cell_type": "code",
   "execution_count": 2,
   "id": "5a62fae2",
   "metadata": {},
   "outputs": [],
   "source": [
    "class convert_wgs84_rev01:\n",
    "    def __init__(self):\n",
    "\n",
    "        self.a = 6378137.0 #赤道面平均半径　単位m\n",
    "        self.f = 1/298.257223563 #扁平率\n",
    "        self.e = np.sqrt(2.0*self.f - self.f**2)\n",
    "\n",
    "    def lla2ecef(self, lat, lon, alt):\n",
    "        self.lat = lat #緯度　単位°\n",
    "        self.lon = lon #軽度　単位°\n",
    "        self.alt = alt #高度　単位m\n",
    "        \n",
    "        \n",
    "        N = self.a / np.sqrt( 1.0- (self.e**2) *np.sin(np.radians(self.lat))**2)\n",
    "        \n",
    "        self.x = (N + self.alt)*np.cos(np.radians(self.lat))*np.cos(np.radians(self.lon))\n",
    "        self.y = (N + self.alt)*np.cos(np.radians(self.lat))*np.sin(np.radians(self.lon))\n",
    "        self.z = (N*(1.0 - self.e**2) + self.alt)*np.sin(np.radians(self.lat))\n",
    "        \n",
    "        #print(\"self.x=\",self.x)\n",
    "        #print(\"self.y=\",self.y)\n",
    "        #print(\"self.z=\",self.z)          \n",
    "\n",
    "        return self.x, self.y, self.z\n",
    "    \n",
    "    def ecef2lla(self, x, y, z):\n",
    "        self.x = x\n",
    "        self.y = y\n",
    "        self.z = z\n",
    "        \n",
    "        e_sq = 2.0*self.f - self.f**2\n",
    "        e_dot_sq = e_sq/((1.0-self.f)**2)\n",
    "        b=(1.0-self.f)*self.a\n",
    "        p= np.sqrt(self.x**2 + self.y**2)\n",
    "        theta_rad = np.arctan((self.z/p)/(1.0 - self.f))\n",
    "        \n",
    "        self.lat = np.degrees(np.arctan((z + e_dot_sq*b*np.sin(theta_rad)**3)/(p - e_sq*self.a*np.cos(theta_rad)**3)))\n",
    "        self.lon = np.degrees(np.arctan(self.y/self.x))\n",
    "        \n",
    "        N = self.a / np.sqrt( 1.0- (self.e**2) *(np.sin(np.radians(self.lat))**2))\n",
    "        \n",
    "        self.alt = (p/np.cos(np.radians(self.lat))) - N\n",
    "        \n",
    "        #print(\"e_sq=\",e_sq)\n",
    "        #print(\"e_dot_seq\",e_dot_sq)\n",
    "        #print(\"b=\",b)\n",
    "        #print(\"self.lat=\",self.lat)\n",
    "        #print(\"self.lon=\",self.lon)\n",
    "        #print(\"self.alt=\",self.alt)\n",
    "\n",
    "        return self.lat, self.lon, self.alt\n",
    "    \n",
    "    def direct_range(self,lat1,lon1,alt1,lat2,lon2,alt2):\n",
    "        self.lat1 = lat1 #緯度　単位°\n",
    "        self.lon1 = lon1 #軽度　単位°\n",
    "        self.alt1 = alt1 #高度　単位m\n",
    "        self.lat2 = lat2 #緯度　単位°\n",
    "        self.lon2 = lon2 #軽度　単位°\n",
    "        self.alt2 = alt2 #高度　単位m\n",
    "        \n",
    "        self.x1, self.y1, self.z1 = convert_wgs84_rev01().lla2ecef(self.lat1,self.lon1 ,self.alt1)\n",
    "        self.x2, self.y2, self.z2 = convert_wgs84_rev01().lla2ecef(self.lat2,self.lon2 ,self.alt2)\n",
    "        \n",
    "        self.range_m = np.sqrt((self.x1 - self.x2)**2 + (self.y1 - self.y2)**2 +(self.z1 - self.z2)**2)\n",
    "        \n",
    "        return self.range_m    \n",
    "    \n"
   ]
  },
  {
   "cell_type": "markdown",
   "id": "a146be4e",
   "metadata": {},
   "source": [
    "### 使い方"
   ]
  },
  {
   "cell_type": "markdown",
   "id": "42ce3d42",
   "metadata": {},
   "source": [
    "（緯度、経度、高度）→（X、Y、Z）@ECEF<br>\n",
    "input<br>\n",
    "単位：緯度、経度＝°<br>\n",
    "単位：高度=m<br>\n",
    "output<br>\n",
    "単位：X、Y、Z=m"
   ]
  },
  {
   "cell_type": "code",
   "execution_count": 3,
   "id": "7be46aa3",
   "metadata": {},
   "outputs": [
    {
     "data": {
      "text/plain": [
       "(1126351.275058597, 5299066.122490121, 3362551.1111792587)"
      ]
     },
     "execution_count": 3,
     "metadata": {},
     "output_type": "execute_result"
    }
   ],
   "source": [
    "convert_wgs84_rev01().lla2ecef(32,78,4000)"
   ]
  },
  {
   "cell_type": "markdown",
   "id": "bb00543f",
   "metadata": {},
   "source": [
    "（X、Y、Z)@ECEF→（緯度、経度、高度）<br>\n",
    "input<br>\n",
    "単位：緯度、経度＝°<br>\n",
    "単位：高度=m<br>\n",
    "output<br>\n",
    "単位：X、Y、Z=m"
   ]
  },
  {
   "cell_type": "code",
   "execution_count": 4,
   "id": "1fe356e7",
   "metadata": {},
   "outputs": [
    {
     "data": {
      "text/plain": [
       "(32.00000000000094, 78.0, 4000.0000000651926)"
      ]
     },
     "execution_count": 4,
     "metadata": {},
     "output_type": "execute_result"
    }
   ],
   "source": [
    "convert_wgs84_rev01().ecef2lla(1126351.275058597, 5299066.122490121, 3362551.1111792587)"
   ]
  },
  {
   "cell_type": "markdown",
   "id": "f9dcd167",
   "metadata": {},
   "source": [
    "# 2つの緯度経度高度の距離計算"
   ]
  },
  {
   "cell_type": "markdown",
   "id": "85995dd3",
   "metadata": {},
   "source": [
    "### 使い方"
   ]
  },
  {
   "cell_type": "markdown",
   "id": "0c50de97",
   "metadata": {},
   "source": [
    "緯度1、経度1、高度1と緯度2、経度2、高度2<br>\n",
    "input<br>\n",
    "単位：緯度、経度＝°<br>\n",
    "単位：高度=m<br>\n",
    "output<br>\n",
    "単位：距離=m"
   ]
  },
  {
   "cell_type": "code",
   "execution_count": 5,
   "id": "e321feb7",
   "metadata": {},
   "outputs": [
    {
     "data": {
      "text/plain": [
       "1999.9999999997003"
      ]
     },
     "execution_count": 5,
     "metadata": {},
     "output_type": "execute_result"
    }
   ],
   "source": [
    "convert_wgs84_rev01().direct_range(35,135,10000,35,135,12000)"
   ]
  },
  {
   "cell_type": "code",
   "execution_count": null,
   "id": "f5571639",
   "metadata": {},
   "outputs": [],
   "source": []
  }
 ],
 "metadata": {
  "kernelspec": {
   "display_name": "base",
   "language": "python",
   "name": "python3"
  },
  "language_info": {
   "codemirror_mode": {
    "name": "ipython",
    "version": 3
   },
   "file_extension": ".py",
   "mimetype": "text/x-python",
   "name": "python",
   "nbconvert_exporter": "python",
   "pygments_lexer": "ipython3",
   "version": "3.7.11"
  }
 },
 "nbformat": 4,
 "nbformat_minor": 5
}
