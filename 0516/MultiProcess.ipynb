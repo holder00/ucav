{
 "cells": [
  {
   "cell_type": "markdown",
   "id": "5e6e2054",
   "metadata": {},
   "source": [
    "マルチプロセステスト"
   ]
  },
  {
   "cell_type": "code",
   "execution_count": 1,
   "id": "ec18567a",
   "metadata": {},
   "outputs": [
    {
     "name": "stdout",
     "output_type": "stream",
     "text": [
      "(0.0, 0.0, 0.0, 0, 0)\n",
      "(18.790000000000138, 37.580000000000275, 1879.0, 1879, 1879)\n"
     ]
    }
   ],
   "source": [
    "import mmap\n",
    "from struct import *\n",
    "\n",
    "shmem = mmap.mmap(0,32,'UAV_SIM_MEM')\n",
    "value1 = unpack('dddii',shmem)\n",
    "print(value1)\n",
    "shmem.close()\n",
    "\n",
    "with open(\"MapFile.txt\",'r+b') as f:\n",
    "    m = mmap.mmap(f.fileno(),0)\n",
    "    value = unpack('dddii',m)\n",
    "    print(value)\n",
    "    \n",
    "    m.close()\n"
   ]
  },
  {
   "cell_type": "code",
   "execution_count": 63,
   "id": "96e2a633",
   "metadata": {},
   "outputs": [
    {
     "ename": "NameError",
     "evalue": "name 'MUTEX_ALL_ACCCESS' is not defined",
     "output_type": "error",
     "traceback": [
      "\u001b[1;31m---------------------------------------------------------------------------\u001b[0m",
      "\u001b[1;31mNameError\u001b[0m                                 Traceback (most recent call last)",
      "\u001b[1;32m<ipython-input-63-11850e68764c>\u001b[0m in \u001b[0;36m<module>\u001b[1;34m\u001b[0m\n\u001b[0;32m      6\u001b[0m \u001b[1;33m\u001b[0m\u001b[0m\n\u001b[0;32m      7\u001b[0m \u001b[0mKernel32\u001b[0m \u001b[1;33m=\u001b[0m \u001b[0mctypes\u001b[0m\u001b[1;33m.\u001b[0m\u001b[0mwindll\u001b[0m\u001b[1;33m.\u001b[0m\u001b[0mKernel32\u001b[0m\u001b[1;33m\u001b[0m\u001b[1;33m\u001b[0m\u001b[0m\n\u001b[1;32m----> 8\u001b[1;33m \u001b[0mmutex\u001b[0m \u001b[1;33m=\u001b[0m \u001b[0mKernel32\u001b[0m\u001b[1;33m.\u001b[0m\u001b[0mCreateMutexA\u001b[0m\u001b[1;33m(\u001b[0m\u001b[0mMUTEX_ALL_ACCCESS\u001b[0m\u001b[1;33m,\u001b[0m\u001b[1;36m0\u001b[0m\u001b[1;33m,\u001b[0m\u001b[1;34m\"UAV_MUTEX\"\u001b[0m\u001b[1;33m)\u001b[0m\u001b[1;33m\u001b[0m\u001b[1;33m\u001b[0m\u001b[0m\n\u001b[0m\u001b[0;32m      9\u001b[0m \u001b[1;33m\u001b[0m\u001b[0m\n\u001b[0;32m     10\u001b[0m \u001b[1;33m\u001b[0m\u001b[0m\n",
      "\u001b[1;31mNameError\u001b[0m: name 'MUTEX_ALL_ACCCESS' is not defined"
     ]
    }
   ],
   "source": [
    "import mmap\n",
    "import time\n",
    "from struct import *\n",
    "import ctypes\n",
    "from multiprocessing import Process\n",
    "\n",
    "Kernel32 = ctypes.windll.Kernel32\n",
    "mutex = Kernel32.CreateMutexA(MUTEX_ALL_ACCCESS,0,\"Global/UAV_MUTEX\")\n",
    "\n",
    "\n",
    "def GetData():\n",
    "    shmem = mmap.mmap(0,32,\"UAV_SIM_MEM\")\n",
    "    value1 = unpack('dddii',shmem)\n",
    "    print(value1)\n",
    "    shmem.close()\n",
    "\n",
    "if __name__ == '__main__':\n",
    "    Kernel32.WaitForSingleObject(mutex,-1)\n",
    "    while True:\n",
    "        try:\n",
    "            with open(\"C:\\ProgramData\\FHI\\AI_DMU\\Mapfile_.txt\",\"r\") as f:\n",
    "                f.close()\n",
    "                GetData()\n",
    "                print(\"wait\")\n",
    "                time.sleep(20)\n",
    "                print(\"end\")\n",
    "                break\n",
    "        except OSError as e:\n",
    "            time.sleep(100/1000)\n",
    "            continue\n",
    "    \n",
    "    Kernel32.ReleaseMutex(mutex)\n",
    "    \n",
    "    \n",
    "    \n"
   ]
  },
  {
   "cell_type": "code",
   "execution_count": 35,
   "id": "2756755b",
   "metadata": {},
   "outputs": [
    {
     "name": "stdout",
     "output_type": "stream",
     "text": [
      "(0.0, 0.0, 0.0, 0, 0)\n"
     ]
    }
   ],
   "source": [
    "import mmap\n",
    "from struct import *\n",
    "from multiprocessing import Process\n",
    "\n",
    "shmem = mmap.mmap(0,32,'UAV_SIM_MEM')\n",
    "value1 = unpack('dddii',shmem)\n",
    "print(value1)\n",
    "shmem.close()"
   ]
  },
  {
   "cell_type": "code",
   "execution_count": 14,
   "id": "255aa264",
   "metadata": {},
   "outputs": [
    {
     "name": "stdout",
     "output_type": "stream",
     "text": [
      "(246.4686113834404, 4.035499496061838, 41.30038101495879, 246.47112172725286, 4.019785339914299, 41.30063350793913, 248.09332904930852, 4.513677144634195, -44.91120748827348, 248.09331402370907, 4.514737851874864, -44.911212338402294, 200, 200)\n",
      "wait\n",
      "end\n"
     ]
    }
   ],
   "source": [
    "import mmap\n",
    "import time\n",
    "from struct import *\n",
    "import ctypes\n",
    "from multiprocessing import Process\n",
    "\n",
    "Kernel32 = ctypes.windll.Kernel32\n",
    "mutex = Kernel32.CreateMutexA(0,0,\"Global/UAV_MUTEX\")\n",
    "\n",
    "\n",
    "def GetData():\n",
    "    shmem = mmap.mmap(0,104,\"UAV_SIM_MEM\")\n",
    "    #Uav[0] dVc,dGamC,dPsiC\n",
    "    #Uav[1] dVc,dGamC,dPsiC\n",
    "    #Uav[2] dVc,dGamC,dPsiC\n",
    "    #Uav[3] dVc,dGamC,dPsiC\n",
    "    #int Python指令\n",
    "    #int　Python状態\n",
    "    InValue = unpack('ddddddddddddii',shmem)\n",
    "    print(InValue)\n",
    "    shmem.close()\n",
    "\n",
    "def SetData():\n",
    "    shmem2 = mmap.mmap(0,32,\"PYTHON_SIM_MEM\")\n",
    "    #double dVc\n",
    "    #double dGamC\n",
    "    #double dPsiC\n",
    "    #int Python指令\n",
    "    #int　Python状態\n",
    "    OutValue = pack('dddii',250,-5,-30,1,2)\n",
    "    \n",
    "    shmem2.write(OutValue)\n",
    "    #print(OutValue)\n",
    "    #shmem2.close()\n",
    "    \n",
    "if __name__ == '__main__':\n",
    "    Kernel32.WaitForSingleObject(mutex,-1)\n",
    "    GetData()\n",
    "    SetData()\n",
    "    print(\"wait\")\n",
    "    #time.sleep(5)\n",
    "    print(\"end\")\n",
    "    \n",
    "    Kernel32.ReleaseMutex(mutex)\n",
    "    \n",
    "    "
   ]
  },
  {
   "cell_type": "code",
   "execution_count": null,
   "id": "06e08114",
   "metadata": {},
   "outputs": [],
   "source": []
  },
  {
   "cell_type": "code",
   "execution_count": null,
   "id": "d4631c9f",
   "metadata": {},
   "outputs": [],
   "source": []
  },
  {
   "cell_type": "code",
   "execution_count": null,
   "id": "f6c7dca3",
   "metadata": {},
   "outputs": [],
   "source": []
  }
 ],
 "metadata": {
  "kernelspec": {
   "display_name": "Python 3 (ipykernel)",
   "language": "python",
   "name": "python3"
  },
  "language_info": {
   "codemirror_mode": {
    "name": "ipython",
    "version": 3
   },
   "file_extension": ".py",
   "mimetype": "text/x-python",
   "name": "python",
   "nbconvert_exporter": "python",
   "pygments_lexer": "ipython3",
   "version": "3.7.3"
  }
 },
 "nbformat": 4,
 "nbformat_minor": 5
}
