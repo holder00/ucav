{
 "cells": [
  {
   "cell_type": "markdown",
   "id": "4c4c05a0",
   "metadata": {},
   "source": [
    "# 座標系クラス"
   ]
  },
  {
   "cell_type": "markdown",
   "id": "8b6b66b9",
   "metadata": {},
   "source": [
    "作成：電シス 浅井2021.8.30"
   ]
  },
  {
   "cell_type": "code",
   "execution_count": 1,
   "id": "31be7075",
   "metadata": {},
   "outputs": [],
   "source": [
    "class ECEF:\n",
    "    #地球中心地球固定座標\n",
    "    def __init__(self, x=0, y=0, z=0):\n",
    "        self.x = x #地球中心原点、子午線方向　単位m\n",
    "        self.y = y #地球中心原点、x及びzと直交　右ネジ方向　単位m\n",
    "        self.z = z #地球中心原点、自転軸方向　単位m"
   ]
  },
  {
   "cell_type": "code",
   "execution_count": 2,
   "id": "e931df48",
   "metadata": {},
   "outputs": [],
   "source": [
    "class LLA:\n",
    "    #緯度経度高度座標\n",
    "    def __init__(self, lat =0, lon =0, alt =0):\n",
    "        self.lat = lat #緯度　単位°\n",
    "        self.lon = lon #経度　単位°\n",
    "        self.alt = alt #高度　単位m\n",
    "        #オイラーシーケンス：経度→緯度"
   ]
  },
  {
   "cell_type": "code",
   "execution_count": 3,
   "id": "826f2fb3",
   "metadata": {},
   "outputs": [],
   "source": [
    "class NED:\n",
    "    #機体局所座標\n",
    "    def __init__(self, north=0, east=0, down=0):\n",
    "        self.north = north #機体原点、真北方向　単位m\n",
    "        self.east = east #機体原点、真東方向　単位m\n",
    "        self.down = down #機体原点、垂直真下　単位m"
   ]
  },
  {
   "cell_type": "code",
   "execution_count": 4,
   "id": "8cd72715",
   "metadata": {},
   "outputs": [],
   "source": [
    "class FRD:\n",
    "    #機体固定座標\n",
    "    def __init__(self, fwd =0, rh =0, dwn=0):\n",
    "        self.fwd = fwd #機体原点、前方　単位m\n",
    "        self.rh = rh #機体原点、右方　単位m\n",
    "        self.dwn = dwn #機体原点、下方　単位m"
   ]
  },
  {
   "cell_type": "code",
   "execution_count": 5,
   "id": "efaef8c9",
   "metadata": {},
   "outputs": [],
   "source": [
    "class LOCAL:\n",
    "    #機体原点、機体局所座標系\n",
    "    def __init__(self, local_x =0, local_y =0, local_z =0):\n",
    "        self.local_x = local_x\n",
    "        self.local_y = local_y\n",
    "        self.local_z = local_z"
   ]
  },
  {
   "cell_type": "code",
   "execution_count": 6,
   "id": "6a8f6605",
   "metadata": {},
   "outputs": [],
   "source": [
    "class AC_ATTITUDE:\n",
    "    #機体姿勢\n",
    "    def __init__(self, roll=0, pitch =0, yaw =0):\n",
    "        self.roll = roll #ロール 単位°\n",
    "        self.pitch = pitch #ピッチ 単位°\n",
    "        self.yaw = yaw #ヨー　単位°\n",
    "        #オイラーシーケンス：ヨー→ピッチ→ロール"
   ]
  },
  {
   "cell_type": "code",
   "execution_count": 7,
   "id": "7b759462",
   "metadata": {},
   "outputs": [],
   "source": [
    "class SENSOR_ATTITUDE:\n",
    "    #センサ角度\n",
    "    def __init__(self, spin =0, el =0, az =0):\n",
    "        self.spin = spin #スピン 単位°\n",
    "        self.el = el #エレベーション 単位°\n",
    "        self.az = az #アジマス 単位°\n",
    "        #オイラーシーケンス：アジマス→エレベーション→スピン"
   ]
  },
  {
   "cell_type": "code",
   "execution_count": 8,
   "id": "ebff975d",
   "metadata": {},
   "outputs": [],
   "source": [
    "class FOCAL_POSITION:\n",
    "    #センサ固定座標\n",
    "    def __init__(self, horizontal=0, vertical=0, depth=0):\n",
    "        self.horizontal = horizontal #水平右　単位m\n",
    "        self.vertical = vertical #垂直下　単位m\n",
    "        self.depth = depth #奥行前　単位m"
   ]
  },
  {
   "cell_type": "code",
   "execution_count": 9,
   "id": "7ed14637",
   "metadata": {},
   "outputs": [],
   "source": [
    "class FOCAL_ANGLE:\n",
    "    #センサ取得角度\n",
    "    def __init__(self, focal_el=0, focal_az =0):\n",
    "        self.focal_el = focal_el #センサ取得角度水平右方向　単位°\n",
    "        self.focal_az = focal_az #センサ取得角度仰角　単位°"
   ]
  }
 ],
 "metadata": {
  "kernelspec": {
   "display_name": "base",
   "language": "python",
   "name": "python3"
  },
  "language_info": {
   "codemirror_mode": {
    "name": "ipython",
    "version": 3
   },
   "file_extension": ".py",
   "mimetype": "text/x-python",
   "name": "python",
   "nbconvert_exporter": "python",
   "pygments_lexer": "ipython3",
   "version": "3.7.11"
  }
 },
 "nbformat": 4,
 "nbformat_minor": 5
}
