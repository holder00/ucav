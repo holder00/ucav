{
 "cells": [
  {
   "cell_type": "markdown",
   "id": "50f69a88",
   "metadata": {},
   "source": [
    "# ATTITUDE_CONVERT"
   ]
  },
  {
   "cell_type": "markdown",
   "id": "c371b881",
   "metadata": {},
   "source": [
    "作成：電シス 浅井2021.8.30"
   ]
  },
  {
   "cell_type": "markdown",
   "id": "ca3a3f35",
   "metadata": {},
   "source": [
    "参考サイト：https://qiita.com/momomo_rimoto/items/3a245736c5fd90fe8270"
   ]
  },
  {
   "cell_type": "code",
   "execution_count": 3,
   "id": "5efab5d5",
   "metadata": {},
   "outputs": [],
   "source": [
    "import numpy as np\n",
    "import quaternion\n",
    "\n",
    "import sys\n",
    "sys.path.append('../')\n",
    "sys.path.append('../sensor')"
   ]
  },
  {
   "cell_type": "code",
   "execution_count": 4,
   "id": "a401a545",
   "metadata": {},
   "outputs": [],
   "source": [
    "#座標系クラスのインポート\n",
    "from COORDINATION_SYSTEMS import ECEF, LLA, NED, FRD, AC_ATTITUDE, LOCAL, SENSOR_ATTITUDE, FOCAL_POSITION, FOCAL_ANGLE"
   ]
  },
  {
   "cell_type": "code",
   "execution_count": 5,
   "id": "b4ded6fa",
   "metadata": {},
   "outputs": [],
   "source": [
    "#WGS84座標変換クラスのインポート\n",
    "from WGS84_COORDINATE_CONVERT import WGS84_COORDINATION_CONVERT"
   ]
  },
  {
   "cell_type": "markdown",
   "id": "b36f0df8",
   "metadata": {},
   "source": [
    "## クラス定義"
   ]
  },
  {
   "cell_type": "code",
   "execution_count": 6,
   "id": "841a3257",
   "metadata": {},
   "outputs": [],
   "source": [
    "class ATTITUDE_CONVERT:\n",
    "    def ned2frd(self, ned = NED(), ac_attitude = AC_ATTITUDE()):\n",
    "        #入力：　北、東、南 ：単位m\n",
    "        #入力：ロール、ピッチ、ヨ― ：単位°\n",
    "        #出力： 前、右、下 単位m\n",
    "        #オイラーシーケンス：ヨー→ピッチ→ロール\n",
    "        self.ned = ned\n",
    "        \n",
    "        self.ac_attitude = ac_attitude        \n",
    "        q1=quaternion.from_rotation_vector([0,0,np.radians(self.ac_attitude.yaw)])\n",
    "        q2=quaternion.from_rotation_vector([0,np.radians(self.ac_attitude.pitch),0])\n",
    "        q3=quaternion.from_rotation_vector([np.radians(self.ac_attitude.roll),0,0])\n",
    "\n",
    "        quat=q3.inverse()*q2.inverse()*q1.inverse()\n",
    "        rot = quaternion.as_rotation_matrix(quat)\n",
    "        \n",
    "        self.frd = FRD()\n",
    "        self.frd.fwd, self.frd.rh, self.frd.dwn = np.matmul(rot, np.array([self.ned.north, self.ned.east, self.ned.down]))\n",
    "              \n",
    "        return self.frd\n",
    "    \n",
    "    def frd2ned(self, frd = FRD(), ac_attitude = AC_ATTITUDE()):\n",
    "        #入力：　前、右、下 単位m\n",
    "        #入力：ロール、ピッチ、ヨ― 単位°\n",
    "        #出力： 北、東、南 ：単位m\n",
    "        #オイラーシーケンス：ヨー→ピッチ→ロール\n",
    "        \n",
    "        self.frd = frd\n",
    "               \n",
    "        self.ac_attitude = ac_attitude\n",
    "        q1=quaternion.from_rotation_vector([0,0,np.radians(self.ac_attitude.yaw)])\n",
    "        q2=quaternion.from_rotation_vector([0,np.radians(self.ac_attitude.pitch),0])\n",
    "        q3=quaternion.from_rotation_vector([np.radians(self.ac_attitude.roll),0,0])\n",
    "        \n",
    "        quat=q1*q2*q3\n",
    "        rot = quaternion.as_rotation_matrix(quat)\n",
    "        \n",
    "        self.ned = NED()\n",
    "        self.ned.north, self.ned.east, self.ned.down = np.matmul(rot, np.array([self.frd.fwd, self.frd.rh, self.frd.dwn]))\n",
    "        \n",
    "        return self.ned\n",
    "    \n",
    "    def local2ned(self, local= LOCAL(), lla = LLA() ):\n",
    "        #入力：　局所X、局所Y、局所Z 単位m\n",
    "        #入力：緯度、経度　単位°\n",
    "        #出力： 北、東、南 ：単位m\n",
    "        #オイラーシーケンス：経度→緯度\n",
    "        \n",
    "        self.local = local\n",
    "        self.lla = lla\n",
    "        \n",
    "        q1=quaternion.from_rotation_vector([0,np.radians(-90),0])\n",
    "        q2=quaternion.from_rotation_vector([np.radians(self.lla.lon),0,0])\n",
    "        q3=quaternion.from_rotation_vector([0,np.radians(-self.lla.lat),0])\n",
    "        \n",
    "        quat = q3.inverse()*q2.inverse()*q1.inverse()\n",
    "        \n",
    "        rot = quaternion.as_rotation_matrix(quat)\n",
    "        \n",
    "        self.ned = NED()\n",
    "        self.ned.north, self.ned.east, self.ned.down = np.matmul(rot, np.array([self.local.local_x, self.local.local_y, self.local.local_z]))\n",
    "        \n",
    "        return self.ned\n",
    "    \n",
    "    def ned2local(self, ned = NED(), lla = LLA()):\n",
    "        #入力：北、東、南 ：単位m　\n",
    "        #入力：緯度、経度　単位°\n",
    "        #出力： 局所X、局所Y、局所Z 単位m\n",
    "        #オイラーシーケンス：経度→緯度\n",
    "        \n",
    "        self.ned = ned\n",
    "        self.lla = lla\n",
    "\n",
    "        q1=quaternion.from_rotation_vector([0,np.radians(-90),0])\n",
    "        q2=quaternion.from_rotation_vector([np.radians(self.lla.lon),0,0])\n",
    "        q3=quaternion.from_rotation_vector([0,np.radians(-self.lla.lat),0])\n",
    "        \n",
    "        quat=q1*q2*q3\n",
    "        \n",
    "        rot = quaternion.as_rotation_matrix(quat)\n",
    "        \n",
    "        self.local = LOCAL()\n",
    "        self.local.local_x, self.local.local_y, self.local.local_z = np.matmul(rot, np.array([self.ned.north, self.ned.east, self.ned.down]))\n",
    "        \n",
    "        return self.local\n",
    "    \n",
    "    def frd2focal(self, frd = FRD(), sensor_attitude =SENSOR_ATTITUDE() ):\n",
    "        #入力：前、右、下 ：単位m　\n",
    "        #入力：アジマス、エレベーション、スピン　：単位°\n",
    "        #出力： 水平右、垂直下、奥行前 ：単位m\n",
    "        #オイラーシーケンス：アジマス→エレベーション→スピン\n",
    "        self.frd = frd\n",
    "        self.sensor_attitude = sensor_attitude\n",
    "        \n",
    "        q1=quaternion.from_rotation_vector([0,0,np.radians(self.sensor_attitude.az)])\n",
    "        q2=quaternion.from_rotation_vector([0,np.radians(self.sensor_attitude.el),0])\n",
    "        q3=quaternion.from_rotation_vector([np.radians(self.sensor_attitude.spin),0,0])\n",
    "        q4=quaternion.from_rotation_vector([0,0,np.radians(90)])\n",
    "        q5=quaternion.from_rotation_vector([np.radians(90),0,0])\n",
    "\n",
    "        quat=q5.inverse()*q4.inverse()*q3.inverse()*q2.inverse()*q1.inverse()\n",
    "        rot = quaternion.as_rotation_matrix(quat)\n",
    "        \n",
    "        self.focal_position = FOCAL_POSITION()\n",
    "        self.focal_position.horizontal, self.focal_position.vertical, self.focal_position.depth = np.matmul(rot, np.array([self.frd.fwd, self.frd.rh, self.frd.dwn]))\n",
    "        \n",
    "        return self.focal_position\n",
    "\n",
    "    def focal2frd(self, focal_position = FOCAL_POSITION(), sensor_attitude =SENSOR_ATTITUDE()):\n",
    "        #入力： 水平右、垂直下、奥行前 ：単位m\n",
    "        #入力：アジマス、エレベーション、スピン　：単位°\n",
    "        #出力：前、右、下 ：単位m　\n",
    "        #オイラーシーケンス：アジマス→エレベーション→スピン\n",
    "        self.focal_position = focal_position\n",
    "        self.sensor_attitude = sensor_attitude\n",
    "        \n",
    "        q1=quaternion.from_rotation_vector([0,0,np.radians(self.sensor_attitude.az)])\n",
    "        q2=quaternion.from_rotation_vector([0,np.radians(self.sensor_attitude.el),0])\n",
    "        q3=quaternion.from_rotation_vector([np.radians(self.sensor_attitude.spin),0,0])\n",
    "        q4=quaternion.from_rotation_vector([0,0,np.radians(90)])\n",
    "        q5=quaternion.from_rotation_vector([np.radians(90),0,0])\n",
    "\n",
    "        quat=q1*q2*q3*q4*q5\n",
    "        rot = quaternion.as_rotation_matrix(quat)\n",
    "        \n",
    "        self.frd = FRD()\n",
    "        self.frd.fwd, self.frd.rh, self.frd.dwn = np.matmul(rot, np.array([self.focal_position.horizontal, self.focal_position.vertical, self.focal_position.depth]))\n",
    "                \n",
    "        return self.frd\n",
    "    "
   ]
  },
  {
   "cell_type": "markdown",
   "id": "4f830dc9",
   "metadata": {},
   "source": [
    "## 使い方"
   ]
  },
  {
   "cell_type": "markdown",
   "id": "9061e933",
   "metadata": {},
   "source": [
    "機体位置を原点に、NED座標で表された位置(真北、東、真下）を、機体固定座標(前方、右方、下方）で表すサンプル<br>角度単位は°"
   ]
  },
  {
   "cell_type": "code",
   "execution_count": 7,
   "id": "84e4653e",
   "metadata": {},
   "outputs": [
    {
     "name": "stdout",
     "output_type": "stream",
     "text": [
      "0.7071067811865474 3.3306690738754696e-16 -0.7071067811865474\n"
     ]
    }
   ],
   "source": [
    "ned = NED(north =0, east =1, down =0)\n",
    "ac_attitude = AC_ATTITUDE(roll = 0, pitch = -45, yaw =90)\n",
    "frd = ATTITUDE_CONVERT().ned2frd(ned, ac_attitude)\n",
    "print(frd.fwd, frd.rh, frd.dwn)"
   ]
  },
  {
   "cell_type": "markdown",
   "id": "4a7f3559",
   "metadata": {},
   "source": [
    "機体位置を原点に、機体固定座標で表された位置（前方、右方、下方）を、NED座標（真北、東、真下）で表すサンプル<br>（角度単位は°）"
   ]
  },
  {
   "cell_type": "code",
   "execution_count": 8,
   "id": "33cb09b1",
   "metadata": {},
   "outputs": [
    {
     "name": "stdout",
     "output_type": "stream",
     "text": [
      "-3.3306690738754696e-16 0.9999999999999998 5.551115123125783e-17\n"
     ]
    }
   ],
   "source": [
    "frd = FRD(fwd =0.7071067811865474, rh =3.3306690738754696e-16, dwn =-0.7071067811865474)\n",
    "ac_attitude = AC_ATTITUDE(roll = 0, pitch = -45, yaw =90)\n",
    "ned = ATTITUDE_CONVERT().frd2ned(frd, ac_attitude)\n",
    "print(ned.north, ned.east, ned.down)"
   ]
  },
  {
   "cell_type": "markdown",
   "id": "9d74414f",
   "metadata": {},
   "source": [
    "機体位置を原点に機体局所座標で表された位置（局所X、局所Y、局所Z）を、NED座標（真北、東、真下）で表すサンプル。<br>（角度単位は°）（局所X方向は、地球中心から北緯0°東経0°の地点を見た方向と平行）"
   ]
  },
  {
   "cell_type": "code",
   "execution_count": 9,
   "id": "f808d373",
   "metadata": {},
   "outputs": [
    {
     "name": "stdout",
     "output_type": "stream",
     "text": [
      "0.31961524227066307 -0.19999999999999987 -0.6464101615137753\n"
     ]
    }
   ],
   "source": [
    "local = LOCAL(local_x=0.2, local_y=0.4, local_z=0.6)\n",
    "lla = LLA(lat=30,lon=90, alt=0)\n",
    "ned = ATTITUDE_CONVERT().local2ned(local, lla)\n",
    "print(ned.north, ned.east, ned.down)"
   ]
  },
  {
   "cell_type": "markdown",
   "id": "b22711f7",
   "metadata": {},
   "source": [
    "機体位置を原点に、NED座標で表された位置（真北、東、真下）を、機体局所座標で表された位置（局所X、局所Y、局所Z）で表すサンプル。<br>（角度単位は°）（局所X方向は、地球中心から北緯０°東経０°の地点を見た方向と平行）"
   ]
  },
  {
   "cell_type": "code",
   "execution_count": 10,
   "id": "63557688",
   "metadata": {},
   "outputs": [
    {
     "name": "stdout",
     "output_type": "stream",
     "text": [
      "0.19999999999999982 0.40000000000000013 0.6000000000000005\n"
     ]
    }
   ],
   "source": [
    "ned = NED(north =0.31961524227066307, east= -0.19999999999999987, down =-0.6464101615137753)\n",
    "lla = LLA(lat=30, lon=90, alt=0)\n",
    "local = ATTITUDE_CONVERT().ned2local(ned, lla)\n",
    "print(local.local_x, local.local_y, local.local_z)"
   ]
  },
  {
   "cell_type": "markdown",
   "id": "f94d3ca0",
   "metadata": {},
   "source": [
    "機体位置を原点に、機体固定座標で表された位置（前方、右方、下方）を、機体局所座標で表されたセンサ固定座標（水平、垂直、奥行）で表すサンプル。<br>（角度単位は°）（水平は右が正、垂直は下が正）"
   ]
  },
  {
   "cell_type": "code",
   "execution_count": 11,
   "id": "f3464f42",
   "metadata": {},
   "outputs": [
    {
     "name": "stdout",
     "output_type": "stream",
     "text": [
      "6.470853991243017e-16 0.707106781186547 0.7071067811865467\n"
     ]
    }
   ],
   "source": [
    "frd = FRD(fwd =0.7071067811865474, rh =3.3306690738754696e-16, dwn =-0.7071067811865474)\n",
    "sensor_attitude =SENSOR_ATTITUDE(spin=0, el=90, az=0)\n",
    "focal_position = ATTITUDE_CONVERT().frd2focal(frd, sensor_attitude)\n",
    "print(focal_position.horizontal, focal_position.vertical, focal_position.depth)"
   ]
  },
  {
   "cell_type": "markdown",
   "id": "0a46f3a4",
   "metadata": {},
   "source": [
    "機体位置を原点に、センサ固定座標で表された位置（水平、垂直、奥行）を、機体局所座標（前方、右下、下方）で表すサンプル。<br>（角度単位は°）（水平は右が正、垂直は下が正"
   ]
  },
  {
   "cell_type": "code",
   "execution_count": 12,
   "id": "5ff3936e",
   "metadata": {},
   "outputs": [
    {
     "name": "stdout",
     "output_type": "stream",
     "text": [
      "0.7071067811865474 3.3306690738754726e-16 -0.7071067811865474\n"
     ]
    }
   ],
   "source": [
    "focal_position = FOCAL_POSITION(horizontal= 6.470853991243017e-16, vertical=0.707106781186547, depth=0.7071067811865467)\n",
    "sensor_attitude =SENSOR_ATTITUDE(spin=0, el=90, az=0)\n",
    "frd = ATTITUDE_CONVERT().focal2frd(focal_position,sensor_attitude)\n",
    "print(frd.fwd, frd.rh, frd.dwn)"
   ]
  },
  {
   "cell_type": "code",
   "execution_count": null,
   "id": "ebd2813d",
   "metadata": {},
   "outputs": [],
   "source": []
  },
  {
   "cell_type": "code",
   "execution_count": null,
   "id": "2ee12f65",
   "metadata": {},
   "outputs": [],
   "source": []
  }
 ],
 "metadata": {
  "kernelspec": {
   "display_name": "base",
   "language": "python",
   "name": "python3"
  },
  "language_info": {
   "codemirror_mode": {
    "name": "ipython",
    "version": 3
   },
   "file_extension": ".py",
   "mimetype": "text/x-python",
   "name": "python",
   "nbconvert_exporter": "python",
   "pygments_lexer": "ipython3",
   "version": "3.7.11"
  }
 },
 "nbformat": 4,
 "nbformat_minor": 5
}
