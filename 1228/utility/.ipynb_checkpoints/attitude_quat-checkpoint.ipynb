{
 "cells": [
  {
   "cell_type": "markdown",
   "id": "b3a1955c",
   "metadata": {},
   "source": [
    "# 姿勢演算　クォータニオン操作"
   ]
  },
  {
   "cell_type": "markdown",
   "id": "04305df5",
   "metadata": {},
   "source": [
    "### 注意<br>\n",
    "準備としてnumpy-quaternionをインストールしておく<br>\n",
    "!pip install numpy-quaternion"
   ]
  },
  {
   "cell_type": "markdown",
   "id": "441efc6b",
   "metadata": {},
   "source": [
    "参考サイト：https://qiita.com/momomo_rimoto/items/3a245736c5fd90fe8270"
   ]
  },
  {
   "cell_type": "code",
   "execution_count": 1,
   "id": "79028f19",
   "metadata": {},
   "outputs": [],
   "source": [
    "import sys\n",
    "sys.path.append('../')"
   ]
  },
  {
   "cell_type": "code",
   "execution_count": 10,
   "id": "8ba0fda7",
   "metadata": {},
   "outputs": [],
   "source": [
    "import numpy as np\n",
    "import quaternion"
   ]
  },
  {
   "cell_type": "code",
   "execution_count": 11,
   "id": "8ded08bd",
   "metadata": {},
   "outputs": [],
   "source": [
    "class attitude_conv_rev01:\n",
    "    #準備としてnumpy-quaternionをインストールしておくこと。\n",
    "    def __init__(self):\n",
    "        self.frd = np.array([0,0,0])\n",
    "        self.ned = np.array([0,0,0])\n",
    "        self.local = np.array([0,0,0])\n",
    "        self.focal = np.array([0,0,0])\n",
    "        \n",
    "    def ned2frd(self, north,east,below,roll,pitch,yaw):\n",
    "        #入力：　北、東、南 ：単位m\n",
    "        #入力：ロール、ピッチ、ヨ― ：単位°\n",
    "        #出力： 前、右、下 単位m\n",
    "        #オイラーシーケンス：ヨー→ピッチ→ロール\n",
    "        \n",
    "        self.ned = np.array([north,east,below])\n",
    "        q1=quaternion.from_rotation_vector([0,0,np.radians(yaw)])\n",
    "        q2=quaternion.from_rotation_vector([0,np.radians(pitch),0])\n",
    "        q3=quaternion.from_rotation_vector([np.radians(roll),0,0])\n",
    "\n",
    "        quat=q3.inverse()*q2.inverse()*q1.inverse()\n",
    "        rot = quaternion.as_rotation_matrix(quat)\n",
    "        self.frd = np.matmul(rot, self.ned)\n",
    "        \n",
    "        self.fwd,self.rh,self.dwn = self.frd\n",
    "        \n",
    "        return self.fwd,self.rh,self.dwn\n",
    "    \n",
    "    \n",
    "    def frd2ned(self, fwd,rh,dwn,roll,pitch,yaw):\n",
    "        #入力：　前、右、下 単位m\n",
    "        #入力：ロール、ピッチ、ヨ― 単位°\n",
    "        #出力： 北、東、南 ：単位m\n",
    "        #オイラーシーケンス：ヨー→ピッチ→ロール\n",
    "        \n",
    "        self.frd = np.array([fwd,rh,dwn])\n",
    "               \n",
    "        q1=quaternion.from_rotation_vector([0,0,np.radians(yaw)])\n",
    "        q2=quaternion.from_rotation_vector([0,np.radians(pitch),0])\n",
    "        q3=quaternion.from_rotation_vector([np.radians(roll),0,0])\n",
    "        \n",
    "        quat=q1*q2*q3\n",
    "\n",
    "        rot = quaternion.as_rotation_matrix(quat)\n",
    "        self.ned = np.matmul(rot, self.frd)\n",
    "        \n",
    "        self.north,self.east,self.below = self.ned\n",
    "        \n",
    "        return self.north,self.east,self.below\n",
    "    \n",
    "    def local2ned(self, x_loc, y_loc, z_loc, ido, keido):\n",
    "        #入力：　局所X、局所Y、局所Z 単位m\n",
    "        #入力：緯度、経度　単位°\n",
    "        #出力： 北、東、南 ：単位m\n",
    "        #オイラーシーケンス：経度→緯度\n",
    "        \n",
    "        self.xyz=np.array([x_loc,y_loc,z_loc])\n",
    "        \n",
    "        q1=quaternion.from_rotation_vector([0,np.radians(-90),0])\n",
    "        q2=quaternion.from_rotation_vector([np.radians(keido),0,0])\n",
    "        q3=quaternion.from_rotation_vector([0,np.radians(-ido),0])\n",
    "        \n",
    "        quat = q3.inverse()*q2.inverse()*q1.inverse()\n",
    "        \n",
    "        rot = quaternion.as_rotation_matrix(quat)\n",
    "        \n",
    "        self.ned = np.matmul(rot, self.xyz)\n",
    "        self.north,self.east,self.below = self.ned\n",
    "        \n",
    "        return self.north,self.east,self.below\n",
    "    \n",
    "    def ned2local(self, north, east, below, ido, keido):\n",
    "        #入力：北、東、南 ：単位m　\n",
    "        #入力：緯度、経度　単位°\n",
    "        #出力： 局所X、局所Y、局所Z 単位m\n",
    "        #オイラーシーケンス：経度→緯度\n",
    "        \n",
    "        self.ned = np.array([north,east,below])\n",
    "\n",
    "        q1=quaternion.from_rotation_vector([0,np.radians(-90),0])\n",
    "        q2=quaternion.from_rotation_vector([np.radians(keido),0,0])\n",
    "        q3=quaternion.from_rotation_vector([0,np.radians(-ido),0])\n",
    "        \n",
    "        quat=q1*q2*q3\n",
    "        \n",
    "        rot = quaternion.as_rotation_matrix(quat)\n",
    "        \n",
    "        self.local = np.matmul(rot, self.ned)\n",
    "        self.x_loc, self.y_loc, self.z_loc = self.local\n",
    "        \n",
    "        return self.x_loc, self.y_loc, self.z_loc\n",
    "    \n",
    "    def frd2focal(self, fwd, rh, dwn, spin, el, az):\n",
    "        #入力：前、右、下 ：単位m　\n",
    "        #入力：アジマス、エレベーション、スピン　：単位°\n",
    "        #出力： 水平右、垂直下、奥行前 ：単位m\n",
    "        #オイラーシーケンス：アジマス→エレベーション→スピン\n",
    "        self.frd = np.array([fwd,rh,dwn])\n",
    "        \n",
    "        q1=quaternion.from_rotation_vector([0,0,np.radians(az)])\n",
    "        q2=quaternion.from_rotation_vector([0,np.radians(el),0])\n",
    "        q3=quaternion.from_rotation_vector([np.radians(spin),0,0])\n",
    "        q4=quaternion.from_rotation_vector([0,0,np.radians(90)])\n",
    "        q5=quaternion.from_rotation_vector([np.radians(90),0,0])\n",
    "\n",
    "        quat=q5.inverse()*q4.inverse()*q3.inverse()*q2.inverse()*q1.inverse()\n",
    "        rot = quaternion.as_rotation_matrix(quat)\n",
    "        self.focal = np.matmul(rot, self.frd)\n",
    "        \n",
    "        self.focal_hor,self.focal_ver,self.focal_dep = self.focal\n",
    "        \n",
    "        return self.focal_hor,self.focal_ver,self.focal_dep\n",
    "    \n",
    "    def focal2frd(self, focal_hor, focal_ver, focal_dep, spin, el, az):\n",
    "        #入力： 水平右、垂直下、奥行前 ：単位m\n",
    "        #入力：アジマス、エレベーション、スピン　：単位°\n",
    "        #出力：前、右、下 ：単位m　\n",
    "        #オイラーシーケンス：アジマス→エレベーション→スピン\n",
    "        \n",
    "        self.focal = np.array([focal_hor,focal_ver,focal_dep])\n",
    "        \n",
    "        q1=quaternion.from_rotation_vector([0,0,np.radians(az)])\n",
    "        q2=quaternion.from_rotation_vector([0,np.radians(el),0])\n",
    "        q3=quaternion.from_rotation_vector([np.radians(spin),0,0])\n",
    "        q4=quaternion.from_rotation_vector([0,0,np.radians(90)])\n",
    "        q5=quaternion.from_rotation_vector([np.radians(90),0,0])\n",
    "\n",
    "        quat=q1*q2*q3*q4*q5\n",
    "        rot = quaternion.as_rotation_matrix(quat)\n",
    "        self.frd = np.matmul(rot, self.focal)\n",
    "        \n",
    "        self.fwd,self.rh,self.dwn = self.frd\n",
    "        \n",
    "        return self.fwd,self.rh,self.dwn\n",
    "    \n",
    "    \n",
    "    \n",
    "        "
   ]
  },
  {
   "cell_type": "markdown",
   "id": "10cde88e",
   "metadata": {},
   "source": [
    "### 機体位置を原点に、NED座標で表された位置(真北、東、真下）を、機体固定座標(前方、右方、下方）で表すサンプル<br>角度単位は°"
   ]
  },
  {
   "cell_type": "code",
   "execution_count": 4,
   "id": "6e345cc4",
   "metadata": {},
   "outputs": [
    {
     "name": "stdout",
     "output_type": "stream",
     "text": [
      "0.7071067811865474 3.3306690738754696e-16 -0.7071067811865474\n"
     ]
    }
   ],
   "source": [
    "roll = 0; pitch = -45; yaw =90\n",
    "north =0; east=1; below=0\n",
    "fwd, rh, dwn = attitude_conv_rev01().ned2frd(north,east,below,roll,pitch,yaw)\n",
    "print(fwd, rh, dwn)"
   ]
  },
  {
   "cell_type": "markdown",
   "id": "af649965",
   "metadata": {},
   "source": [
    "### 機体位置を原点に、機体固定座標で表された位置（前方、右方、下方）を、NED座標（真北、東、真下）で表すサンプル<br>（角度単位は°）"
   ]
  },
  {
   "cell_type": "code",
   "execution_count": 5,
   "id": "d0dcdbeb",
   "metadata": {},
   "outputs": [
    {
     "name": "stdout",
     "output_type": "stream",
     "text": [
      "-3.3306690738754696e-16 0.9999999999999998 5.551115123125783e-17\n"
     ]
    }
   ],
   "source": [
    "north, east, below = attitude_conv_rev01().frd2ned(fwd,rh,dwn,roll,pitch,yaw)\n",
    "print(north, east, below)"
   ]
  },
  {
   "cell_type": "markdown",
   "id": "fea7be4e",
   "metadata": {},
   "source": [
    "### 機体位置を原点に機体局所座標で表された位置（局所X、局所Y、局所Z）を、NED座標（真北、東、真下）で表すサンプル。<br>（角度単位は°）（局所X方向は、地球中心から北緯0°東経0°の地点を見た方向と平行）"
   ]
  },
  {
   "cell_type": "code",
   "execution_count": 6,
   "id": "cf379ade",
   "metadata": {},
   "outputs": [
    {
     "name": "stdout",
     "output_type": "stream",
     "text": [
      "0.31961524227066307 -0.19999999999999987 -0.6464101615137753\n"
     ]
    }
   ],
   "source": [
    "x_loc=0.2; y_loc=0.4; z_loc=0.6;\n",
    "ido=30;keido=90\n",
    "north, east ,below = attitude_conv_rev01().local2ned(x_loc,y_loc,z_loc,ido,keido)\n",
    "print(north, east, below)"
   ]
  },
  {
   "cell_type": "markdown",
   "id": "37f3abd7",
   "metadata": {},
   "source": [
    "### 機体位置を原点に、NED座標で表された位置（真北、東、真下）を、機体局所座標で表された位置（局所X、局所Y、局所Z）で表すサンプル。<br>（角度単位は°）（局所X方向は、地球中心から北緯０°東経０°の地点を見た方向と平行）"
   ]
  },
  {
   "cell_type": "code",
   "execution_count": 7,
   "id": "c22cd008",
   "metadata": {},
   "outputs": [
    {
     "name": "stdout",
     "output_type": "stream",
     "text": [
      "0.19999999999999982 0.40000000000000013 0.6000000000000005\n"
     ]
    }
   ],
   "source": [
    "x_loc, y_loc, z_loc = attitude_conv_rev01().ned2local(north, east, below, ido, keido)\n",
    "print(x_loc, y_loc, z_loc)"
   ]
  },
  {
   "cell_type": "markdown",
   "id": "b7b2abf6",
   "metadata": {},
   "source": [
    "### 機体位置を原点に、機体固定座標で表された位置（前方、右方、下方）を、機体局所座標で表されたセンサ固定座標（水平、垂直、奥行）で表すサンプル。<br>（角度単位は°）（水平は右が正、垂直は下が正）"
   ]
  },
  {
   "cell_type": "code",
   "execution_count": 8,
   "id": "5bbf24dc",
   "metadata": {},
   "outputs": [
    {
     "name": "stdout",
     "output_type": "stream",
     "text": [
      "0.39999999999999997 0.2000000000000001 -0.5999999999999994\n"
     ]
    }
   ],
   "source": [
    "fwd=0.2; rh=0.4; dwn=0.6;\n",
    "spin=0; el=90; az=0;\n",
    "focal_hor, focal_ver, focal_dep = attitude_conv_rev01().frd2focal(fwd, rh, dwn, spin, el, az)\n",
    "print(focal_hor, focal_ver, focal_dep)"
   ]
  },
  {
   "cell_type": "markdown",
   "id": "04fb3a53",
   "metadata": {},
   "source": [
    "### 機体位置を原点に、センサ固定座標で表された位置（水平、垂直、奥行）を、機体局所座標（前方、右下、下方）で表すサンプル。<br>（角度単位は°）（水平は右が正、垂直は下が正）"
   ]
  },
  {
   "cell_type": "code",
   "execution_count": 9,
   "id": "0b164784",
   "metadata": {},
   "outputs": [
    {
     "name": "stdout",
     "output_type": "stream",
     "text": [
      "0.2 0.4 0.6\n"
     ]
    }
   ],
   "source": [
    "fwd, rh, dwn = attitude_conv_rev01().focal2frd(focal_hor, focal_ver, focal_dep, spin, el, az)\n",
    "print(fwd, rh, dwn)"
   ]
  },
  {
   "cell_type": "code",
   "execution_count": null,
   "id": "dab888f0",
   "metadata": {},
   "outputs": [],
   "source": []
  }
 ],
 "metadata": {
  "kernelspec": {
   "display_name": "base",
   "language": "python",
   "name": "python3"
  },
  "language_info": {
   "codemirror_mode": {
    "name": "ipython",
    "version": 3
   },
   "file_extension": ".py",
   "mimetype": "text/x-python",
   "name": "python",
   "nbconvert_exporter": "python",
   "pygments_lexer": "ipython3",
   "version": "3.7.11"
  }
 },
 "nbformat": 4,
 "nbformat_minor": 5
}
