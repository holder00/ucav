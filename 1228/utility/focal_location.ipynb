{
 "cells": [
  {
   "cell_type": "markdown",
   "id": "6679e76d",
   "metadata": {},
   "source": [
    "# 相手機の距離(m)と方位(AZ,EL)を計算する"
   ]
  },
  {
   "cell_type": "markdown",
   "id": "0a82d654",
   "metadata": {},
   "source": [
    "必要なパッケージ"
   ]
  },
  {
   "cell_type": "code",
   "execution_count": 5,
   "id": "16faef75",
   "metadata": {
    "scrolled": true
   },
   "outputs": [],
   "source": [
    "import sys\n",
    "sys.path.append('../')\n",
    "\n",
    "import numpy as np\n",
    "import quaternion"
   ]
  },
  {
   "cell_type": "markdown",
   "id": "e0aae2d0",
   "metadata": {},
   "source": [
    "インポートする自作クラス"
   ]
  },
  {
   "cell_type": "code",
   "execution_count": 6,
   "id": "8c1e3197",
   "metadata": {},
   "outputs": [],
   "source": [
    "from attitude_quat import attitude_conv_rev01\n",
    "from wgs84 import convert_wgs84_rev01"
   ]
  },
  {
   "cell_type": "markdown",
   "id": "f65f8a80",
   "metadata": {},
   "source": [
    "クラス定義"
   ]
  },
  {
   "cell_type": "code",
   "execution_count": 3,
   "id": "4b7f1de2",
   "metadata": {},
   "outputs": [],
   "source": [
    "class focal_location_rev01:\n",
    "    def __init__(self):\n",
    "        self.own_lat =0; self.own_lon=0; self.own_alt=0\n",
    "        self.own_roll =0; self.own_pitch=0; self.own_yaw=0\n",
    "        self.sensor_spin =0; self.sensor_el=0; self.sensor_az=0\n",
    "        \n",
    "        self.opponent_lat =0; self.opponent_lon =0; self.opponent_alt =0\n",
    "        self.opponent_roll =0; self.opponent_pitch =0; self.opponent_yaw =0\n",
    "        \n",
    "    def get_focal_distance(self,\n",
    "                  own_lat, own_lon, own_alt,\n",
    "                  opponent_lat, opponent_lon, opponent_alt):\n",
    "        #用途：相手までの直線距離を算出。単位はm\n",
    "        #入力：自機位置 緯度経度高度　単位：°\n",
    "        #入力：相手機位置 緯度経度高度 単位：°\n",
    "        #出力：直線距離 単位：m\n",
    "        \n",
    "        self.own_lat = own_lat; self.own_lon=own_lon; self.own_alt=own_alt        \n",
    "        self.opponent_lat = opponent_lat; self.opponent_lon = opponent_lon; self.opponent_alt = opponent_alt\n",
    "        \n",
    "        sensed_range = convert_wgs84_rev01().direct_range(self.own_lat,self.own_lon,self.own_alt, self.opponent_lat,self.opponent_lon,self.opponent_alt)\n",
    "        \n",
    "        return sensed_range\n",
    "    \n",
    "    def get_focal_angle(self,\n",
    "                              own_lat, own_lon, own_alt,\n",
    "                              own_roll, own_pitch, own_yaw,\n",
    "                              sensor_spin, sensor_el, sensor_az,\n",
    "                              opponent_lat, opponent_lon, opponent_alt):\n",
    "        #用途：センサ投影角度を算出\n",
    "        #入力：自機位置 緯度経度高度　単位：°\n",
    "        #入力：自機姿勢 ロール、ピッチ、ヨー 単位：°\n",
    "        #入力：センサ視軸 スピン、EL、AZ 単位：°\n",
    "        #入力：相手機位置 緯度経度高度 単位：°\n",
    "        #出力：センサ投影角度 投影AZ、投影EL 単位：°（オイラーシーケンス：投影AZ→投影EL）\n",
    "        \n",
    "        self.own_lat = own_lat; self.own_lon=own_lon; self.own_alt=own_alt\n",
    "        self.own_roll = own_roll; self.own_pitch = own_pitch; self.own_yaw = own_yaw\n",
    "        self.sensor_spin =sensor_spin; self.sensor_el = sensor_el; self.sensor_az = sensor_az\n",
    "        self.opponent_lat = opponent_lat; self.opponent_lon = opponent_lon; self.opponent_alt = opponent_alt\n",
    "        \n",
    "        #緯度経度高度をECEF座標に変換\n",
    "        own_x, own_y, own_z = convert_wgs84_rev01().lla2ecef(own_lat, own_lon, own_alt)\n",
    "        opponent_x,opponent_y,opponent_z = convert_wgs84_rev01().lla2ecef(opponent_lat, opponent_lon, opponent_alt)\n",
    "        \n",
    "        #自機を原点においた局所座標\n",
    "        local_x = opponent_x - own_x\n",
    "        local_y = opponent_y - own_y\n",
    "        local_z = opponent_z - own_z\n",
    "        \n",
    "        #局所座標からNED座標（真北、東、下）に変換\n",
    "        north, east, below = attitude_conv_rev01().local2ned(local_x,local_y,local_z,own_lat, own_lon)\n",
    "        \n",
    "        #NED座標を機体固定座標（前、右、下）に変換\n",
    "        fwd, rh, dwn = attitude_conv_rev01().ned2frd(north,east,below,own_roll, own_pitch, own_yaw)\n",
    "        \n",
    "        #機体固定座標をセンサ固定座標（水平右、垂直下、奥行前）に変換\n",
    "        focal_hor, focal_ver, focal_dpt = attitude_conv_rev01().frd2focal(fwd, rh, dwn, sensor_spin, sensor_el, sensor_az)\n",
    "        \n",
    "        #センサ固定座標からセンサ投影角度を算出\n",
    "        focal_az = np.degrees(np.arctan(focal_hor / focal_dpt))\n",
    "        focal_el = -np.degrees(np.arctan(focal_ver / np.sqrt(focal_hor**2 +focal_dpt**2)))\n",
    "        return focal_az, focal_el\n",
    "        \n",
    "\n",
    "        "
   ]
  },
  {
   "cell_type": "markdown",
   "id": "1e7df017",
   "metadata": {},
   "source": [
    "使用例"
   ]
  },
  {
   "cell_type": "code",
   "execution_count": 4,
   "id": "d5b1772d",
   "metadata": {},
   "outputs": [
    {
     "data": {
      "text/plain": [
       "100.0"
      ]
     },
     "execution_count": 4,
     "metadata": {},
     "output_type": "execute_result"
    }
   ],
   "source": [
    "own_lat = 0; own_lon =0; own_alt=0\n",
    "opponent_lat =0; opponent_lon = 0; opponent_alt =100\n",
    "focal_location_rev01().get_focal_distance(own_lat, own_lon, own_alt, opponent_lat, \n",
    "                                      opponent_lon, opponent_alt)"
   ]
  },
  {
   "cell_type": "code",
   "execution_count": 5,
   "id": "9cdaa9c7",
   "metadata": {},
   "outputs": [
    {
     "data": {
      "text/plain": [
       "(-22.760476274616614, 33.825844970569726)"
      ]
     },
     "execution_count": 5,
     "metadata": {},
     "output_type": "execute_result"
    }
   ],
   "source": [
    "own_roll =0 ; own_pitch = 20; own_yaw =0\n",
    "sensor_spin =30 ; sensor_el = 30; sensor_az =0\n",
    "focal_location_rev01().get_focal_angle(own_lat, own_lon, own_alt,\n",
    "                                         own_roll, own_pitch, own_yaw,\n",
    "                                         sensor_spin, sensor_el, sensor_az,\n",
    "                                         opponent_lat, opponent_lon, opponent_alt)"
   ]
  },
  {
   "cell_type": "code",
   "execution_count": null,
   "id": "1a469621",
   "metadata": {},
   "outputs": [],
   "source": []
  }
 ],
 "metadata": {
  "kernelspec": {
   "display_name": "base",
   "language": "python",
   "name": "python3"
  },
  "language_info": {
   "codemirror_mode": {
    "name": "ipython",
    "version": 3
   },
   "file_extension": ".py",
   "mimetype": "text/x-python",
   "name": "python",
   "nbconvert_exporter": "python",
   "pygments_lexer": "ipython3",
   "version": "3.7.11"
  }
 },
 "nbformat": 4,
 "nbformat_minor": 5
}
