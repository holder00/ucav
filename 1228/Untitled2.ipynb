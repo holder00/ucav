{
 "cells": [
  {
   "cell_type": "code",
   "execution_count": null,
   "id": "9dfe3f43",
   "metadata": {},
   "outputs": [],
   "source": [
    "trainer = pg.PGAgent(env=\"my_multiagent_env\", config={\n",
    "\"multiagent\": {\n",
    "    \"policies\": {\n",
    "        # the first tuple value is None -> uses default policy\n",
    "        \"car1\": (None, car_obs_space, car_act_space, {\"gamma\": 0.85}),\n",
    "        \"car2\": (None, car_obs_space, car_act_space, {\"gamma\": 0.99}),\n",
    "        \"traffic_light\": (None, tl_obs_space, tl_act_space, {}),\n",
    "    },\n",
    "    \"policy_mapping_fn\":\n",
    "        lambda agent_id:\n",
    "            \"traffic_light\"  # Traffic lights are always controlled by this policy\n",
    "            if agent_id.startswith(\"traffic_light_\")\n",
    "            else random.choice([\"car1\", \"car2\"])  # Randomly choose from car policies\n",
    "}, })\n",
    "\n",
    "\n",
    "\n",
    "while True:\n",
    "     print(trainer.train())"
   ]
  },
  {
   "cell_type": "code",
   "execution_count": null,
   "id": "114b39f9",
   "metadata": {},
   "outputs": [],
   "source": []
  }
 ],
 "metadata": {
  "kernelspec": {
   "display_name": "Python 3",
   "language": "python",
   "name": "python3"
  },
  "language_info": {
   "codemirror_mode": {
    "name": "ipython",
    "version": 3
   },
   "file_extension": ".py",
   "mimetype": "text/x-python",
   "name": "python",
   "nbconvert_exporter": "python",
   "pygments_lexer": "ipython3",
   "version": "3.6.13"
  }
 },
 "nbformat": 4,
 "nbformat_minor": 5
}
