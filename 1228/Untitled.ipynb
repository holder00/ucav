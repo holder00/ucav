{
 "cells": [
  {
   "cell_type": "code",
   "execution_count": null,
   "id": "87d4a9c8",
   "metadata": {},
   "outputs": [],
   "source": [
    "import ray\n",
    "from ray.rllib.agents.a3c import A3CTrainer\n",
    "from ray.rllib.policy.policy import PolicySpec\n",
    "from ray.rllib.examples.env.multi_agent import MultiAgentCartPole\n",
    "ray.init()\n",
    "policies = {\n",
    "    \"policy_0\": PolicySpec(config={\"gamma\": 0.99}),\n",
    "    \"policy_1\": PolicySpec(config={\"gamma\": 0.95}),\n",
    "}\n",
    "policy_ids = list(policies.keys())\n",
    "\n",
    "\n",
    "def policy_mapping_fn(agent_id, episode, **kwargs):\n",
    "    pol_id = policy_ids[agent_id]\n",
    "    return pol_id\n",
    "\n",
    "\n",
    "trainer = A3CTrainer(env=MultiAgentCartPole, config={\n",
    "    \"multiagent\": {\"policies\": policies,  \"policy_mapping_fn\": policy_mapping_fn}})\n",
    "trainer.train()"
   ]
  },
  {
   "cell_type": "code",
   "execution_count": null,
   "id": "817a2381",
   "metadata": {},
   "outputs": [],
   "source": []
  }
 ],
 "metadata": {
  "kernelspec": {
   "display_name": "Python 3",
   "language": "python",
   "name": "python3"
  },
  "language_info": {
   "codemirror_mode": {
    "name": "ipython",
    "version": 3
   },
   "file_extension": ".py",
   "mimetype": "text/x-python",
   "name": "python",
   "nbconvert_exporter": "python",
   "pygments_lexer": "ipython3",
   "version": "3.6.13"
  }
 },
 "nbformat": 4,
 "nbformat_minor": 5
}
